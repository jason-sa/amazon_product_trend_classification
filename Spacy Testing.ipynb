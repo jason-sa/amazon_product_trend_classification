{
 "cells": [
  {
   "cell_type": "code",
   "execution_count": 1,
   "metadata": {
    "ExecuteTime": {
     "end_time": "2018-11-18T01:13:31.894340Z",
     "start_time": "2018-11-18T01:13:30.301105Z"
    }
   },
   "outputs": [],
   "source": [
    "import spacy\n",
    "import dill\n",
    "import re\n",
    "from nltk.corpus import stopwords\n",
    "from nltk import SnowballStemmer\n",
    "import re\n",
    "\n",
    "stemmer = SnowballStemmer('english') # used in the model to predict whether or not a product will trend\n",
    "MODELING_PATH = 'flask/models/'\n",
    "\n",
    "def load(obj_name):\n",
    "    f = MODELING_PATH + obj_name\n",
    "    return dill.load(open(f, 'rb'))"
   ]
  },
  {
   "cell_type": "code",
   "execution_count": 2,
   "metadata": {
    "ExecuteTime": {
     "end_time": "2018-11-18T01:13:32.132651Z",
     "start_time": "2018-11-18T01:13:31.897112Z"
    }
   },
   "outputs": [
    {
     "ename": "OSError",
     "evalue": "[E050] Can't find model 'en_core_web_sm'. It doesn't seem to be a shortcut link, a Python package or a valid path to a data directory.",
     "output_type": "error",
     "traceback": [
      "\u001b[0;31m---------------------------------------------------------------------------\u001b[0m",
      "\u001b[0;31mOSError\u001b[0m                                   Traceback (most recent call last)",
      "\u001b[0;32m<ipython-input-2-1ec04e5b611c>\u001b[0m in \u001b[0;36m<module>\u001b[0;34m()\u001b[0m\n\u001b[1;32m      1\u001b[0m \u001b[0;31m# Load the word2vec model and final classifier model\u001b[0m\u001b[0;34m\u001b[0m\u001b[0;34m\u001b[0m\u001b[0m\n\u001b[0;32m----> 2\u001b[0;31m \u001b[0mnlp\u001b[0m \u001b[0;34m=\u001b[0m \u001b[0mspacy\u001b[0m\u001b[0;34m.\u001b[0m\u001b[0mload\u001b[0m\u001b[0;34m(\u001b[0m\u001b[0;34m'en_core_web_sm'\u001b[0m\u001b[0;34m)\u001b[0m\u001b[0;34m\u001b[0m\u001b[0m\n\u001b[0m",
      "\u001b[0;32m/anaconda3/lib/python3.6/site-packages/spacy/__init__.py\u001b[0m in \u001b[0;36mload\u001b[0;34m(name, **overrides)\u001b[0m\n\u001b[1;32m     16\u001b[0m     \u001b[0;32mif\u001b[0m \u001b[0mdepr_path\u001b[0m \u001b[0;32mnot\u001b[0m \u001b[0;32min\u001b[0m \u001b[0;34m(\u001b[0m\u001b[0;32mTrue\u001b[0m\u001b[0;34m,\u001b[0m \u001b[0;32mFalse\u001b[0m\u001b[0;34m,\u001b[0m \u001b[0;32mNone\u001b[0m\u001b[0;34m)\u001b[0m\u001b[0;34m:\u001b[0m\u001b[0;34m\u001b[0m\u001b[0m\n\u001b[1;32m     17\u001b[0m         \u001b[0mdeprecation_warning\u001b[0m\u001b[0;34m(\u001b[0m\u001b[0mWarnings\u001b[0m\u001b[0;34m.\u001b[0m\u001b[0mW001\u001b[0m\u001b[0;34m.\u001b[0m\u001b[0mformat\u001b[0m\u001b[0;34m(\u001b[0m\u001b[0mpath\u001b[0m\u001b[0;34m=\u001b[0m\u001b[0mdepr_path\u001b[0m\u001b[0;34m)\u001b[0m\u001b[0;34m)\u001b[0m\u001b[0;34m\u001b[0m\u001b[0m\n\u001b[0;32m---> 18\u001b[0;31m     \u001b[0;32mreturn\u001b[0m \u001b[0mutil\u001b[0m\u001b[0;34m.\u001b[0m\u001b[0mload_model\u001b[0m\u001b[0;34m(\u001b[0m\u001b[0mname\u001b[0m\u001b[0;34m,\u001b[0m \u001b[0;34m**\u001b[0m\u001b[0moverrides\u001b[0m\u001b[0;34m)\u001b[0m\u001b[0;34m\u001b[0m\u001b[0m\n\u001b[0m\u001b[1;32m     19\u001b[0m \u001b[0;34m\u001b[0m\u001b[0m\n\u001b[1;32m     20\u001b[0m \u001b[0;34m\u001b[0m\u001b[0m\n",
      "\u001b[0;32m/anaconda3/lib/python3.6/site-packages/spacy/util.py\u001b[0m in \u001b[0;36mload_model\u001b[0;34m(name, **overrides)\u001b[0m\n\u001b[1;32m    117\u001b[0m     \u001b[0;32melif\u001b[0m \u001b[0mhasattr\u001b[0m\u001b[0;34m(\u001b[0m\u001b[0mname\u001b[0m\u001b[0;34m,\u001b[0m \u001b[0;34m'exists'\u001b[0m\u001b[0;34m)\u001b[0m\u001b[0;34m:\u001b[0m  \u001b[0;31m# Path or Path-like to model data\u001b[0m\u001b[0;34m\u001b[0m\u001b[0m\n\u001b[1;32m    118\u001b[0m         \u001b[0;32mreturn\u001b[0m \u001b[0mload_model_from_path\u001b[0m\u001b[0;34m(\u001b[0m\u001b[0mname\u001b[0m\u001b[0;34m,\u001b[0m \u001b[0;34m**\u001b[0m\u001b[0moverrides\u001b[0m\u001b[0;34m)\u001b[0m\u001b[0;34m\u001b[0m\u001b[0m\n\u001b[0;32m--> 119\u001b[0;31m     \u001b[0;32mraise\u001b[0m \u001b[0mIOError\u001b[0m\u001b[0;34m(\u001b[0m\u001b[0mErrors\u001b[0m\u001b[0;34m.\u001b[0m\u001b[0mE050\u001b[0m\u001b[0;34m.\u001b[0m\u001b[0mformat\u001b[0m\u001b[0;34m(\u001b[0m\u001b[0mname\u001b[0m\u001b[0;34m=\u001b[0m\u001b[0mname\u001b[0m\u001b[0;34m)\u001b[0m\u001b[0;34m)\u001b[0m\u001b[0;34m\u001b[0m\u001b[0m\n\u001b[0m\u001b[1;32m    120\u001b[0m \u001b[0;34m\u001b[0m\u001b[0m\n\u001b[1;32m    121\u001b[0m \u001b[0;34m\u001b[0m\u001b[0m\n",
      "\u001b[0;31mOSError\u001b[0m: [E050] Can't find model 'en_core_web_sm'. It doesn't seem to be a shortcut link, a Python package or a valid path to a data directory."
     ]
    }
   ],
   "source": [
    "# Load the word2vec model and final classifier model\n",
    "nlp = spacy.load('en_core_web_sm')"
   ]
  },
  {
   "cell_type": "code",
   "execution_count": null,
   "metadata": {
    "ExecuteTime": {
     "end_time": "2018-11-18T01:13:32.135508Z",
     "start_time": "2018-11-18T01:13:30.308Z"
    }
   },
   "outputs": [],
   "source": [
    "final_model = load('final_full_model.pkl')\n",
    "# final_model = load('final_full_model_test.pkl')\n",
    "\n",
    "# build the vocabulary of trending reviews\n",
    "review_corpus = load('review_corpus.pkl')\n",
    "review_vocab = [nlp.vocab[w] for w in review_corpus]"
   ]
  },
  {
   "cell_type": "code",
   "execution_count": null,
   "metadata": {
    "ExecuteTime": {
     "end_time": "2018-11-18T01:13:32.137782Z",
     "start_time": "2018-11-18T01:13:30.316Z"
    }
   },
   "outputs": [],
   "source": [
    "def token_comment(comment):\n",
    "    '''\n",
    "    Tokenizes a comment and removes stop words. Builds the list of candidate words to be replaced.\n",
    "\n",
    "    comment: string\n",
    "    An Amazon toy review comment\n",
    "\n",
    "    returns: list\n",
    "    List of words toekenized from the comment\n",
    "    '''\n",
    "    tkpat = re.compile('\\\\b[a-z][a-z]+\\\\b')\n",
    "    comment_token = tkpat.findall(comment)\n",
    "    return [w for w in comment_token if w not in set(stopwords.words())]\n",
    "\n",
    "def most_similar(word, top=10):\n",
    "    '''\n",
    "    Returns the top (default 10) similar words based on spaCy 'en_core_web_lg' model.\n",
    "\n",
    "    word: string\n",
    "\n",
    "    top: int\n",
    "    The top n similar words to be returned\n",
    "\n",
    "    returns: list\n",
    "    List of top n words.\n",
    "    '''\n",
    "    by_similarity = sorted(review_vocab, key=lambda w: word.similarity(w), reverse=True)\n",
    "    return [w.orth_ for w in by_similarity[:top]]\n",
    "\n",
    "def get_best_comment(comment):\n",
    "    '''\n",
    "    Analyzes an Amazon Toy review comment and determines if any one word could be replaced to increase the\n",
    "    probability of the product trending.\n",
    "\n",
    "    comment: string\n",
    "    An Amamzon toy review\n",
    "\n",
    "    returns: (string, float, float) (best comment, best comment prob, orig comment prob)\n",
    "    A tuple returning the comment with the highest probability, its related probability, and the probability of\n",
    "    the original comment.\n",
    "    '''\n",
    "    comment_tokenized = token_comment(comment)\n",
    "    comment_list = [comment]\n",
    "    word_list = ['']\n",
    "\n",
    "    for t in comment_tokenized:\n",
    "        sim_words = most_similar(nlp.vocab[t])\n",
    "        for s in sim_words:\n",
    "            new_comment = comment.replace(t, s)\n",
    "            if new_comment != comment:\n",
    "                comment_list.append(comment.replace(t, s))\n",
    "                word_list.append(s)\n",
    "\n",
    "    comment_probs = final_model.predict_proba(comment_list)[:,1]\n",
    "\n",
    "    return (comment_list[comment_probs.argmax()],\n",
    "            comment_probs.max().astype(float),\n",
    "            comment_probs[0].astype(float),\n",
    "            word_list[comment_probs.argmax()])"
   ]
  },
  {
   "cell_type": "code",
   "execution_count": null,
   "metadata": {
    "ExecuteTime": {
     "end_time": "2018-11-18T01:13:32.139657Z",
     "start_time": "2018-11-18T01:13:30.320Z"
    }
   },
   "outputs": [],
   "source": [
    "# if __name__ == '__main__':\n",
    "comment = 'This toy is amazing! So much worth the bucks!!'\n",
    "print(get_best_comment(comment))"
   ]
  }
 ],
 "metadata": {
  "kernelspec": {
   "display_name": "Python 3",
   "language": "python",
   "name": "python3"
  },
  "language_info": {
   "codemirror_mode": {
    "name": "ipython",
    "version": 3
   },
   "file_extension": ".py",
   "mimetype": "text/x-python",
   "name": "python",
   "nbconvert_exporter": "python",
   "pygments_lexer": "ipython3",
   "version": "3.6.5"
  }
 },
 "nbformat": 4,
 "nbformat_minor": 2
}
