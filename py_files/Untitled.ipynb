{
 "cells": [
  {
   "cell_type": "code",
   "execution_count": 3,
   "metadata": {
    "ExecuteTime": {
     "end_time": "2018-11-07T22:43:54.441604Z",
     "start_time": "2018-11-07T22:43:54.420760Z"
    }
   },
   "outputs": [
    {
     "data": {
      "text/plain": [
       "{'hey': 0, 'run': 5, 'ran': 4, 'jump': 2, 'ok': 3, 'it': 1, 'work': 6}"
      ]
     },
     "execution_count": 3,
     "metadata": {},
     "output_type": "execute_result"
    }
   ],
   "source": [
    "from sklearn.feature_extraction.text import CountVectorizer\n",
    "import numpy as np\n",
    "import re\n",
    "from nltk import SnowballStemmer\n",
    "stemmer = SnowballStemmer(\"english\")\n",
    "\n",
    "def my_tokenizer(doc, tkpat=re.compile('\\\\b[a-z][a-z]+\\\\b')):\n",
    "    return [stemmer.stem(token) for token in tkpat.findall(doc)]\n",
    "\n",
    "vec = CountVectorizer(tokenizer=my_tokenizer)\n",
    "\n",
    "tf = vec.fit_transform([\"hey running ran jumped\",\"ok it worked\"])\n",
    "\n",
    "vec.vocabulary_"
   ]
  },
  {
   "cell_type": "code",
   "execution_count": null,
   "metadata": {},
   "outputs": [],
   "source": []
  }
 ],
 "metadata": {
  "kernelspec": {
   "display_name": "Python 3",
   "language": "python",
   "name": "python3"
  },
  "language_info": {
   "codemirror_mode": {
    "name": "ipython",
    "version": 3
   },
   "file_extension": ".py",
   "mimetype": "text/x-python",
   "name": "python",
   "nbconvert_exporter": "python",
   "pygments_lexer": "ipython3",
   "version": "3.6.5"
  }
 },
 "nbformat": 4,
 "nbformat_minor": 2
}
