{
 "cells": [
  {
   "cell_type": "code",
   "execution_count": 302,
   "metadata": {
    "ExecuteTime": {
     "end_time": "2018-11-03T21:32:59.686464Z",
     "start_time": "2018-11-03T21:32:59.104021Z"
    }
   },
   "outputs": [],
   "source": [
    "import pandas as pd\n",
    "from datetime import datetime, timedelta\n",
    "\n",
    "import numpy as np\n",
    "from scipy.special import expit\n",
    "\n",
    "import seaborn as sns\n",
    "\n",
    "import matplotlib.pyplot as plt\n",
    "%matplotlib inline"
   ]
  },
  {
   "cell_type": "code",
   "execution_count": 87,
   "metadata": {
    "ExecuteTime": {
     "end_time": "2018-11-03T02:16:50.353676Z",
     "start_time": "2018-11-03T02:14:24.432103Z"
    }
   },
   "outputs": [
    {
     "name": "stderr",
     "output_type": "stream",
     "text": [
      "b'Skipping line 7003: expected 15 fields, saw 22\\nSkipping line 22430: expected 15 fields, saw 22\\nSkipping line 25418: expected 15 fields, saw 22\\nSkipping line 43786: expected 15 fields, saw 22\\nSkipping line 46566: expected 15 fields, saw 22\\nSkipping line 63511: expected 15 fields, saw 22\\n'\n",
      "b'Skipping line 69097: expected 15 fields, saw 22\\nSkipping line 74615: expected 15 fields, saw 22\\nSkipping line 79354: expected 15 fields, saw 22\\nSkipping line 81566: expected 15 fields, saw 22\\nSkipping line 89464: expected 15 fields, saw 22\\nSkipping line 93104: expected 15 fields, saw 22\\nSkipping line 95570: expected 15 fields, saw 22\\nSkipping line 96587: expected 15 fields, saw 22\\nSkipping line 102117: expected 15 fields, saw 22\\nSkipping line 121288: expected 15 fields, saw 22\\n'\n",
      "b'Skipping line 144424: expected 15 fields, saw 22\\nSkipping line 168191: expected 15 fields, saw 22\\nSkipping line 173291: expected 15 fields, saw 22\\n'\n",
      "b'Skipping line 199932: expected 15 fields, saw 22\\nSkipping line 202971: expected 15 fields, saw 22\\nSkipping line 206713: expected 15 fields, saw 22\\nSkipping line 228901: expected 15 fields, saw 22\\nSkipping line 229289: expected 15 fields, saw 22\\nSkipping line 229778: expected 15 fields, saw 22\\nSkipping line 231106: expected 15 fields, saw 22\\nSkipping line 233609: expected 15 fields, saw 22\\nSkipping line 241885: expected 15 fields, saw 22\\nSkipping line 242348: expected 15 fields, saw 22\\nSkipping line 246044: expected 15 fields, saw 22\\nSkipping line 246150: expected 15 fields, saw 22\\nSkipping line 250508: expected 15 fields, saw 22\\n'\n",
      "b'Skipping line 279506: expected 15 fields, saw 22\\nSkipping line 288576: expected 15 fields, saw 22\\nSkipping line 293527: expected 15 fields, saw 22\\nSkipping line 300702: expected 15 fields, saw 22\\nSkipping line 307979: expected 15 fields, saw 22\\nSkipping line 309206: expected 15 fields, saw 22\\nSkipping line 310336: expected 15 fields, saw 22\\nSkipping line 316471: expected 15 fields, saw 22\\n'\n",
      "b'Skipping line 340816: expected 15 fields, saw 22\\nSkipping line 342234: expected 15 fields, saw 22\\nSkipping line 346379: expected 15 fields, saw 22\\nSkipping line 349984: expected 15 fields, saw 22\\nSkipping line 351690: expected 15 fields, saw 22\\nSkipping line 360942: expected 15 fields, saw 22\\nSkipping line 362715: expected 15 fields, saw 22\\nSkipping line 369512: expected 15 fields, saw 22\\nSkipping line 371810: expected 15 fields, saw 22\\nSkipping line 374712: expected 15 fields, saw 22\\nSkipping line 379984: expected 15 fields, saw 22\\nSkipping line 390414: expected 15 fields, saw 22\\n'\n",
      "b'Skipping line 399617: expected 15 fields, saw 22\\nSkipping line 405833: expected 15 fields, saw 22\\nSkipping line 412681: expected 15 fields, saw 22\\nSkipping line 415734: expected 15 fields, saw 22\\nSkipping line 425413: expected 15 fields, saw 22\\nSkipping line 427773: expected 15 fields, saw 22\\nSkipping line 433745: expected 15 fields, saw 22\\nSkipping line 437462: expected 15 fields, saw 22\\nSkipping line 444811: expected 15 fields, saw 22\\nSkipping line 444979: expected 15 fields, saw 22\\nSkipping line 450137: expected 15 fields, saw 22\\n'\n",
      "b'Skipping line 490165: expected 15 fields, saw 22\\nSkipping line 496538: expected 15 fields, saw 22\\nSkipping line 504099: expected 15 fields, saw 22\\nSkipping line 508102: expected 15 fields, saw 22\\nSkipping line 509728: expected 15 fields, saw 22\\nSkipping line 520013: expected 15 fields, saw 22\\n'\n",
      "b'Skipping line 538561: expected 15 fields, saw 22\\nSkipping line 545051: expected 15 fields, saw 22\\nSkipping line 546293: expected 15 fields, saw 22\\nSkipping line 547610: expected 15 fields, saw 22\\nSkipping line 549663: expected 15 fields, saw 22\\nSkipping line 559037: expected 15 fields, saw 22\\nSkipping line 559303: expected 15 fields, saw 22\\nSkipping line 565118: expected 15 fields, saw 22\\nSkipping line 570257: expected 15 fields, saw 22\\nSkipping line 573040: expected 15 fields, saw 22\\nSkipping line 582545: expected 15 fields, saw 22\\nSkipping line 583952: expected 15 fields, saw 22\\nSkipping line 588976: expected 15 fields, saw 22\\nSkipping line 589284: expected 15 fields, saw 22\\n'\n",
      "b'Skipping line 593980: expected 15 fields, saw 22\\nSkipping line 595062: expected 15 fields, saw 22\\nSkipping line 606837: expected 15 fields, saw 22\\nSkipping line 616648: expected 15 fields, saw 22\\nSkipping line 618436: expected 15 fields, saw 22\\nSkipping line 624715: expected 15 fields, saw 22\\nSkipping line 625073: expected 15 fields, saw 22\\nSkipping line 648448: expected 15 fields, saw 22\\n'\n",
      "b'Skipping line 676892: expected 15 fields, saw 22\\nSkipping line 686885: expected 15 fields, saw 22\\nSkipping line 694765: expected 15 fields, saw 22\\nSkipping line 700393: expected 15 fields, saw 22\\nSkipping line 709894: expected 15 fields, saw 22\\n'\n",
      "b'Skipping line 725310: expected 15 fields, saw 22\\nSkipping line 730769: expected 15 fields, saw 22\\nSkipping line 735588: expected 15 fields, saw 22\\nSkipping line 742420: expected 15 fields, saw 22\\nSkipping line 743134: expected 15 fields, saw 22\\nSkipping line 757034: expected 15 fields, saw 22\\nSkipping line 759353: expected 15 fields, saw 22\\nSkipping line 767553: expected 15 fields, saw 22\\nSkipping line 779355: expected 15 fields, saw 22\\nSkipping line 779522: expected 15 fields, saw 22\\n'\n",
      "b'Skipping line 787025: expected 15 fields, saw 22\\nSkipping line 810729: expected 15 fields, saw 22\\nSkipping line 811481: expected 15 fields, saw 22\\nSkipping line 826318: expected 15 fields, saw 22\\nSkipping line 829886: expected 15 fields, saw 22\\n'\n",
      "b'Skipping line 872298: expected 15 fields, saw 22\\nSkipping line 898743: expected 15 fields, saw 22\\nSkipping line 902543: expected 15 fields, saw 22\\nSkipping line 907639: expected 15 fields, saw 22\\nSkipping line 909931: expected 15 fields, saw 22\\n'\n",
      "b'Skipping line 922244: expected 15 fields, saw 22\\nSkipping line 929384: expected 15 fields, saw 22\\nSkipping line 941594: expected 15 fields, saw 22\\nSkipping line 945724: expected 15 fields, saw 22\\nSkipping line 948603: expected 15 fields, saw 22\\nSkipping line 949265: expected 15 fields, saw 22\\nSkipping line 953244: expected 15 fields, saw 22\\nSkipping line 954449: expected 15 fields, saw 22\\nSkipping line 974116: expected 15 fields, saw 22\\nSkipping line 979969: expected 15 fields, saw 22\\nSkipping line 982311: expected 15 fields, saw 22\\n'\n",
      "b'Skipping line 1005593: expected 15 fields, saw 22\\nSkipping line 1046671: expected 15 fields, saw 22\\nSkipping line 1048706: expected 15 fields, saw 22\\n'\n",
      "b'Skipping line 1048761: expected 15 fields, saw 22\\nSkipping line 1055995: expected 15 fields, saw 22\\nSkipping line 1061387: expected 15 fields, saw 22\\nSkipping line 1063803: expected 15 fields, saw 22\\n'\n",
      "b'Skipping line 1122947: expected 15 fields, saw 22\\nSkipping line 1125224: expected 15 fields, saw 22\\nSkipping line 1143957: expected 15 fields, saw 22\\nSkipping line 1146047: expected 15 fields, saw 22\\nSkipping line 1168285: expected 15 fields, saw 22\\nSkipping line 1170870: expected 15 fields, saw 22\\n'\n",
      "b'Skipping line 1190931: expected 15 fields, saw 22\\nSkipping line 1202995: expected 15 fields, saw 22\\nSkipping line 1207921: expected 15 fields, saw 22\\nSkipping line 1210534: expected 15 fields, saw 22\\nSkipping line 1211045: expected 15 fields, saw 22\\nSkipping line 1214388: expected 15 fields, saw 22\\nSkipping line 1225535: expected 15 fields, saw 22\\nSkipping line 1234104: expected 15 fields, saw 22\\nSkipping line 1243625: expected 15 fields, saw 22\\nSkipping line 1244515: expected 15 fields, saw 22\\n'\n",
      "b'Skipping line 1245752: expected 15 fields, saw 22\\nSkipping line 1251647: expected 15 fields, saw 22\\nSkipping line 1261249: expected 15 fields, saw 22\\nSkipping line 1274969: expected 15 fields, saw 22\\nSkipping line 1275368: expected 15 fields, saw 22\\nSkipping line 1278018: expected 15 fields, saw 22\\nSkipping line 1284426: expected 15 fields, saw 22\\nSkipping line 1290659: expected 15 fields, saw 22\\nSkipping line 1297022: expected 15 fields, saw 22\\nSkipping line 1307777: expected 15 fields, saw 22\\nSkipping line 1310410: expected 15 fields, saw 22\\n'\n",
      "b'Skipping line 1311905: expected 15 fields, saw 22\\nSkipping line 1326276: expected 15 fields, saw 22\\nSkipping line 1345474: expected 15 fields, saw 22\\nSkipping line 1352138: expected 15 fields, saw 22\\nSkipping line 1356780: expected 15 fields, saw 22\\nSkipping line 1361506: expected 15 fields, saw 22\\nSkipping line 1370170: expected 15 fields, saw 22\\nSkipping line 1375878: expected 15 fields, saw 22\\n'\n"
     ]
    },
    {
     "name": "stderr",
     "output_type": "stream",
     "text": [
      "b'Skipping line 1424679: expected 15 fields, saw 22\\nSkipping line 1432808: expected 15 fields, saw 22\\nSkipping line 1433856: expected 15 fields, saw 22\\nSkipping line 1441326: expected 15 fields, saw 22\\n'\n",
      "b'Skipping line 1456069: expected 15 fields, saw 22\\nSkipping line 1459027: expected 15 fields, saw 22\\nSkipping line 1472997: expected 15 fields, saw 22\\nSkipping line 1473385: expected 15 fields, saw 22\\nSkipping line 1477354: expected 15 fields, saw 22\\nSkipping line 1484134: expected 15 fields, saw 22\\nSkipping line 1485917: expected 15 fields, saw 22\\nSkipping line 1487630: expected 15 fields, saw 22\\nSkipping line 1492663: expected 15 fields, saw 22\\nSkipping line 1498469: expected 15 fields, saw 22\\nSkipping line 1506187: expected 15 fields, saw 22\\n'\n",
      "b'Skipping line 1510623: expected 15 fields, saw 22\\nSkipping line 1514521: expected 15 fields, saw 22\\nSkipping line 1522642: expected 15 fields, saw 22\\nSkipping line 1533051: expected 15 fields, saw 22\\nSkipping line 1537618: expected 15 fields, saw 22\\nSkipping line 1539097: expected 15 fields, saw 22\\nSkipping line 1539684: expected 15 fields, saw 22\\nSkipping line 1540095: expected 15 fields, saw 22\\nSkipping line 1541753: expected 15 fields, saw 22\\nSkipping line 1542568: expected 15 fields, saw 22\\nSkipping line 1544849: expected 15 fields, saw 22\\nSkipping line 1547388: expected 15 fields, saw 22\\nSkipping line 1547833: expected 15 fields, saw 22\\nSkipping line 1550584: expected 15 fields, saw 22\\nSkipping line 1555170: expected 15 fields, saw 22\\nSkipping line 1557538: expected 15 fields, saw 22\\nSkipping line 1560420: expected 15 fields, saw 22\\nSkipping line 1565898: expected 15 fields, saw 22\\n'\n",
      "b'Skipping line 1580679: expected 15 fields, saw 22\\nSkipping line 1581640: expected 15 fields, saw 22\\nSkipping line 1589257: expected 15 fields, saw 22\\nSkipping line 1597669: expected 15 fields, saw 22\\nSkipping line 1625149: expected 15 fields, saw 22\\n'\n",
      "b'Skipping line 1645729: expected 15 fields, saw 22\\nSkipping line 1662428: expected 15 fields, saw 22\\nSkipping line 1680819: expected 15 fields, saw 22\\nSkipping line 1689592: expected 15 fields, saw 22\\n'\n",
      "b'Skipping line 1704188: expected 15 fields, saw 22\\nSkipping line 1704866: expected 15 fields, saw 22\\nSkipping line 1731540: expected 15 fields, saw 22\\nSkipping line 1733950: expected 15 fields, saw 22\\nSkipping line 1744679: expected 15 fields, saw 22\\nSkipping line 1744878: expected 15 fields, saw 22\\nSkipping line 1750554: expected 15 fields, saw 22\\nSkipping line 1752015: expected 15 fields, saw 22\\nSkipping line 1762325: expected 15 fields, saw 22\\nSkipping line 1768080: expected 15 fields, saw 22\\n'\n",
      "b'Skipping line 1773474: expected 15 fields, saw 22\\nSkipping line 1789739: expected 15 fields, saw 22\\nSkipping line 1812944: expected 15 fields, saw 22\\nSkipping line 1824350: expected 15 fields, saw 22\\nSkipping line 1824920: expected 15 fields, saw 22\\nSkipping line 1830324: expected 15 fields, saw 22\\nSkipping line 1831051: expected 15 fields, saw 22\\n'\n",
      "b'Skipping line 1838756: expected 15 fields, saw 22\\nSkipping line 1839456: expected 15 fields, saw 22\\nSkipping line 1848076: expected 15 fields, saw 22\\nSkipping line 1849937: expected 15 fields, saw 22\\nSkipping line 1850269: expected 15 fields, saw 22\\nSkipping line 1850698: expected 15 fields, saw 22\\nSkipping line 1857825: expected 15 fields, saw 22\\nSkipping line 1863225: expected 15 fields, saw 22\\nSkipping line 1870124: expected 15 fields, saw 22\\nSkipping line 1872713: expected 15 fields, saw 22\\nSkipping line 1879465: expected 15 fields, saw 22\\nSkipping line 1886274: expected 15 fields, saw 22\\n'\n",
      "b'Skipping line 1917162: expected 15 fields, saw 22\\nSkipping line 1920447: expected 15 fields, saw 22\\nSkipping line 1921489: expected 15 fields, saw 22\\nSkipping line 1926156: expected 15 fields, saw 22\\nSkipping line 1927345: expected 15 fields, saw 22\\nSkipping line 1936363: expected 15 fields, saw 22\\nSkipping line 1936387: expected 15 fields, saw 22\\nSkipping line 1937596: expected 15 fields, saw 22\\nSkipping line 1951140: expected 15 fields, saw 22\\nSkipping line 1957589: expected 15 fields, saw 22\\nSkipping line 1957601: expected 15 fields, saw 22\\nSkipping line 1962381: expected 15 fields, saw 22\\n'\n",
      "b'Skipping line 1973613: expected 15 fields, saw 22\\nSkipping line 1976149: expected 15 fields, saw 22\\nSkipping line 1979365: expected 15 fields, saw 22\\nSkipping line 1983215: expected 15 fields, saw 22\\nSkipping line 1992878: expected 15 fields, saw 22\\nSkipping line 1996884: expected 15 fields, saw 22\\nSkipping line 2000561: expected 15 fields, saw 22\\nSkipping line 2015400: expected 15 fields, saw 22\\nSkipping line 2019408: expected 15 fields, saw 22\\n'\n",
      "b'Skipping line 2032407: expected 15 fields, saw 22\\nSkipping line 2045350: expected 15 fields, saw 22\\nSkipping line 2063796: expected 15 fields, saw 22\\nSkipping line 2066579: expected 15 fields, saw 22\\nSkipping line 2067395: expected 15 fields, saw 22\\nSkipping line 2075242: expected 15 fields, saw 22\\nSkipping line 2078093: expected 15 fields, saw 22\\n'\n",
      "b'Skipping line 2115428: expected 15 fields, saw 22\\nSkipping line 2137100: expected 15 fields, saw 22\\n'\n",
      "b'Skipping line 2163870: expected 15 fields, saw 22\\nSkipping line 2166739: expected 15 fields, saw 22\\nSkipping line 2173211: expected 15 fields, saw 22\\nSkipping line 2173958: expected 15 fields, saw 22\\nSkipping line 2176798: expected 15 fields, saw 22\\nSkipping line 2191833: expected 15 fields, saw 22\\nSkipping line 2192638: expected 15 fields, saw 22\\nSkipping line 2193540: expected 15 fields, saw 22\\nSkipping line 2193595: expected 15 fields, saw 22\\nSkipping line 2202012: expected 15 fields, saw 22\\nSkipping line 2205876: expected 15 fields, saw 22\\nSkipping line 2226502: expected 15 fields, saw 22\\nSkipping line 2227396: expected 15 fields, saw 22\\n'\n",
      "b'Skipping line 2233270: expected 15 fields, saw 22\\nSkipping line 2234501: expected 15 fields, saw 22\\nSkipping line 2245308: expected 15 fields, saw 22\\nSkipping line 2247084: expected 15 fields, saw 22\\nSkipping line 2247878: expected 15 fields, saw 22\\nSkipping line 2250552: expected 15 fields, saw 22\\nSkipping line 2254598: expected 15 fields, saw 22\\nSkipping line 2284709: expected 15 fields, saw 22\\nSkipping line 2284799: expected 15 fields, saw 22\\nSkipping line 2292117: expected 15 fields, saw 22\\n'\n",
      "b'Skipping line 2294355: expected 15 fields, saw 22\\nSkipping line 2304229: expected 15 fields, saw 22\\nSkipping line 2304344: expected 15 fields, saw 22\\nSkipping line 2311376: expected 15 fields, saw 22\\nSkipping line 2317711: expected 15 fields, saw 22\\nSkipping line 2328881: expected 15 fields, saw 22\\nSkipping line 2352131: expected 15 fields, saw 22\\nSkipping line 2357881: expected 15 fields, saw 22\\n'\n",
      "b'Skipping line 2372561: expected 15 fields, saw 22\\nSkipping line 2378708: expected 15 fields, saw 22\\n'\n",
      "b'Skipping line 2435979: expected 15 fields, saw 22\\nSkipping line 2462692: expected 15 fields, saw 22\\nSkipping line 2471833: expected 15 fields, saw 22\\n'\n",
      "b'Skipping line 2608859: expected 15 fields, saw 22\\n'\n",
      "b'Skipping line 2737102: expected 15 fields, saw 22\\n'\n",
      "b'Skipping line 2820377: expected 15 fields, saw 22\\n'\n",
      "b'Skipping line 3032229: expected 15 fields, saw 22\\nSkipping line 3036716: expected 15 fields, saw 22\\nSkipping line 3039754: expected 15 fields, saw 22\\n'\n",
      "b'Skipping line 3230999: expected 15 fields, saw 22\\nSkipping line 3248281: expected 15 fields, saw 22\\n'\n",
      "b'Skipping line 3379094: expected 15 fields, saw 22\\n'\n",
      "b'Skipping line 3418902: expected 15 fields, saw 22\\n'\n",
      "b'Skipping line 3480006: expected 15 fields, saw 22\\n'\n",
      "b'Skipping line 4385957: expected 15 fields, saw 22\\n'\n",
      "b'Skipping line 4408460: expected 15 fields, saw 22\\n'\n",
      "b'Skipping line 4762423: expected 15 fields, saw 22\\n'\n"
     ]
    },
    {
     "name": "stdout",
     "output_type": "stream",
     "text": [
      "Data frame shape with error rows removed: (4859607, 15)\n",
      "Total number of lines in the file: 4864250\n",
      "Precentage of rows missing 0.0009545150845453598\n"
     ]
    }
   ],
   "source": [
    "toys = pd.read_csv('amazon_reviews_us_Toys_v1_00.tsv', sep='\\t', error_bad_lines=False)\n",
    "\n",
    "print('Data frame shape with error rows removed:', toys.shape)\n",
    "\n",
    "filepath = 'amazon_reviews_us_Toys_v1_00.tsv'\n",
    "with open(filepath) as fp:\n",
    "    lines = fp.readlines()\n",
    "    \n",
    "print('Total number of lines in the file:', len(lines))\n",
    "\n",
    "print('Precentage of rows missing',1-toys.shape[0] / len(lines))\n",
    "\n",
    "# Not a significant numebr of rows lost by ignoring the rows with errors\n",
    "\n",
    "toys.review_date = pd.to_datetime(toys.review_date, format='%Y-%m-%d')\n",
    "\n",
    "toys = toys[toys.review_date >= datetime(2014, 1, 1)]\n",
    "\n",
    "print('Data frame filterd down to 2014-2015', toys.shape)"
   ]
  },
  {
   "cell_type": "code",
   "execution_count": 92,
   "metadata": {
    "ExecuteTime": {
     "end_time": "2018-11-03T02:21:16.909546Z",
     "start_time": "2018-11-03T02:21:16.901748Z"
    }
   },
   "outputs": [],
   "source": [
    "%matplotlib inline"
   ]
  },
  {
   "cell_type": "code",
   "execution_count": 95,
   "metadata": {
    "ExecuteTime": {
     "end_time": "2018-11-03T02:21:39.393876Z",
     "start_time": "2018-11-03T02:21:39.371567Z"
    }
   },
   "outputs": [
    {
     "data": {
      "text/html": [
       "<div>\n",
       "<style scoped>\n",
       "    .dataframe tbody tr th:only-of-type {\n",
       "        vertical-align: middle;\n",
       "    }\n",
       "\n",
       "    .dataframe tbody tr th {\n",
       "        vertical-align: top;\n",
       "    }\n",
       "\n",
       "    .dataframe thead th {\n",
       "        text-align: right;\n",
       "    }\n",
       "</style>\n",
       "<table border=\"1\" class=\"dataframe\">\n",
       "  <thead>\n",
       "    <tr style=\"text-align: right;\">\n",
       "      <th></th>\n",
       "      <th>marketplace</th>\n",
       "      <th>customer_id</th>\n",
       "      <th>review_id</th>\n",
       "      <th>product_id</th>\n",
       "      <th>product_parent</th>\n",
       "      <th>product_title</th>\n",
       "      <th>product_category</th>\n",
       "      <th>star_rating</th>\n",
       "      <th>helpful_votes</th>\n",
       "      <th>total_votes</th>\n",
       "      <th>vine</th>\n",
       "      <th>verified_purchase</th>\n",
       "      <th>review_headline</th>\n",
       "      <th>review_body</th>\n",
       "      <th>review_date</th>\n",
       "    </tr>\n",
       "  </thead>\n",
       "  <tbody>\n",
       "    <tr>\n",
       "      <th>0</th>\n",
       "      <td>US</td>\n",
       "      <td>18778586</td>\n",
       "      <td>RDIJS7QYB6XNR</td>\n",
       "      <td>B00EDBY7X8</td>\n",
       "      <td>122952789</td>\n",
       "      <td>Monopoly Junior Board Game</td>\n",
       "      <td>Toys</td>\n",
       "      <td>5.0</td>\n",
       "      <td>0.0</td>\n",
       "      <td>0.0</td>\n",
       "      <td>N</td>\n",
       "      <td>Y</td>\n",
       "      <td>Five Stars</td>\n",
       "      <td>Excellent!!!</td>\n",
       "      <td>2015-08-31</td>\n",
       "    </tr>\n",
       "    <tr>\n",
       "      <th>1</th>\n",
       "      <td>US</td>\n",
       "      <td>24769659</td>\n",
       "      <td>R36ED1U38IELG8</td>\n",
       "      <td>B00D7JFOPC</td>\n",
       "      <td>952062646</td>\n",
       "      <td>56 Pieces of Wooden Train Track Compatible wit...</td>\n",
       "      <td>Toys</td>\n",
       "      <td>5.0</td>\n",
       "      <td>0.0</td>\n",
       "      <td>0.0</td>\n",
       "      <td>N</td>\n",
       "      <td>Y</td>\n",
       "      <td>Good quality track at excellent price</td>\n",
       "      <td>Great quality wooden track (better than some o...</td>\n",
       "      <td>2015-08-31</td>\n",
       "    </tr>\n",
       "    <tr>\n",
       "      <th>2</th>\n",
       "      <td>US</td>\n",
       "      <td>44331596</td>\n",
       "      <td>R1UE3RPRGCOLD</td>\n",
       "      <td>B002LHA74O</td>\n",
       "      <td>818126353</td>\n",
       "      <td>Super Jumbo Playing Cards by S&amp;S Worldwide</td>\n",
       "      <td>Toys</td>\n",
       "      <td>2.0</td>\n",
       "      <td>1.0</td>\n",
       "      <td>1.0</td>\n",
       "      <td>N</td>\n",
       "      <td>Y</td>\n",
       "      <td>Two Stars</td>\n",
       "      <td>Cards are not as big as pictured.</td>\n",
       "      <td>2015-08-31</td>\n",
       "    </tr>\n",
       "    <tr>\n",
       "      <th>3</th>\n",
       "      <td>US</td>\n",
       "      <td>23310293</td>\n",
       "      <td>R298788GS6I901</td>\n",
       "      <td>B00ARPLCGY</td>\n",
       "      <td>261944918</td>\n",
       "      <td>Barbie Doll and Fashions Barbie Gift Set</td>\n",
       "      <td>Toys</td>\n",
       "      <td>5.0</td>\n",
       "      <td>0.0</td>\n",
       "      <td>0.0</td>\n",
       "      <td>N</td>\n",
       "      <td>Y</td>\n",
       "      <td>my daughter loved it and i liked the price and...</td>\n",
       "      <td>my daughter loved it and i liked the price and...</td>\n",
       "      <td>2015-08-31</td>\n",
       "    </tr>\n",
       "    <tr>\n",
       "      <th>4</th>\n",
       "      <td>US</td>\n",
       "      <td>38745832</td>\n",
       "      <td>RNX4EXOBBPN5</td>\n",
       "      <td>B00UZOPOFW</td>\n",
       "      <td>717410439</td>\n",
       "      <td>Emazing Lights eLite Flow Glow Sticks - Spinni...</td>\n",
       "      <td>Toys</td>\n",
       "      <td>1.0</td>\n",
       "      <td>1.0</td>\n",
       "      <td>1.0</td>\n",
       "      <td>N</td>\n",
       "      <td>Y</td>\n",
       "      <td>DONT BUY THESE!</td>\n",
       "      <td>Do not buy these! They break very fast I spun ...</td>\n",
       "      <td>2015-08-31</td>\n",
       "    </tr>\n",
       "  </tbody>\n",
       "</table>\n",
       "</div>"
      ],
      "text/plain": [
       "  marketplace  customer_id       review_id  product_id  product_parent  \\\n",
       "0          US     18778586   RDIJS7QYB6XNR  B00EDBY7X8       122952789   \n",
       "1          US     24769659  R36ED1U38IELG8  B00D7JFOPC       952062646   \n",
       "2          US     44331596   R1UE3RPRGCOLD  B002LHA74O       818126353   \n",
       "3          US     23310293  R298788GS6I901  B00ARPLCGY       261944918   \n",
       "4          US     38745832    RNX4EXOBBPN5  B00UZOPOFW       717410439   \n",
       "\n",
       "                                       product_title product_category  \\\n",
       "0                         Monopoly Junior Board Game             Toys   \n",
       "1  56 Pieces of Wooden Train Track Compatible wit...             Toys   \n",
       "2         Super Jumbo Playing Cards by S&S Worldwide             Toys   \n",
       "3           Barbie Doll and Fashions Barbie Gift Set             Toys   \n",
       "4  Emazing Lights eLite Flow Glow Sticks - Spinni...             Toys   \n",
       "\n",
       "   star_rating  helpful_votes  total_votes vine verified_purchase  \\\n",
       "0          5.0            0.0          0.0    N                 Y   \n",
       "1          5.0            0.0          0.0    N                 Y   \n",
       "2          2.0            1.0          1.0    N                 Y   \n",
       "3          5.0            0.0          0.0    N                 Y   \n",
       "4          1.0            1.0          1.0    N                 Y   \n",
       "\n",
       "                                     review_headline  \\\n",
       "0                                         Five Stars   \n",
       "1              Good quality track at excellent price   \n",
       "2                                          Two Stars   \n",
       "3  my daughter loved it and i liked the price and...   \n",
       "4                                    DONT BUY THESE!   \n",
       "\n",
       "                                         review_body review_date  \n",
       "0                                       Excellent!!!  2015-08-31  \n",
       "1  Great quality wooden track (better than some o...  2015-08-31  \n",
       "2                  Cards are not as big as pictured.  2015-08-31  \n",
       "3  my daughter loved it and i liked the price and...  2015-08-31  \n",
       "4  Do not buy these! They break very fast I spun ...  2015-08-31  "
      ]
     },
     "execution_count": 95,
     "metadata": {},
     "output_type": "execute_result"
    }
   ],
   "source": [
    "toys.head()"
   ]
  },
  {
   "cell_type": "markdown",
   "metadata": {},
   "source": [
    "# MVP\n",
    "\n",
    "Select 10000 random products and build a quick prototype to see get the workflow for predicting trending."
   ]
  },
  {
   "cell_type": "code",
   "execution_count": 327,
   "metadata": {
    "ExecuteTime": {
     "end_time": "2018-11-03T23:06:17.490078Z",
     "start_time": "2018-11-03T23:06:08.167243Z"
    }
   },
   "outputs": [
    {
     "name": "stderr",
     "output_type": "stream",
     "text": [
      "/anaconda3/lib/python3.6/site-packages/ipykernel_launcher.py:15: SettingWithCopyWarning: \n",
      "A value is trying to be set on a copy of a slice from a DataFrame.\n",
      "Try using .loc[row_indexer,col_indexer] = value instead\n",
      "\n",
      "See the caveats in the documentation: http://pandas.pydata.org/pandas-docs/stable/indexing.html#indexing-view-versus-copy\n",
      "  from ipykernel import kernelapp as app\n"
     ]
    }
   ],
   "source": [
    "products = toys.product_id.unique()\n",
    "rand_products = np.random.choice(products, size=10000, replace=False)\n",
    "products_df = toys[toys.product_id.isin(rand_products)]\n",
    "\n",
    "# Get all reviews within 1 month.\n",
    "\n",
    "last_review = products_df.groupby('product_id')['review_date'].max().reset_index()\n",
    "products_df = products_df.merge(last_review, how='inner', on='product_id')\n",
    "\n",
    "products_df.rename(columns={'review_date_x':'review_date', 'review_date_y':'max_review_date'}, inplace=True)\n",
    "\n",
    "reviews_one_month_df = products_df[products_df.max_review_date - products_df.review_date < timedelta(days=30)]\n",
    "\n",
    "# Calculate the trending metric\n",
    "reviews_one_month_df['adj_star_rating'] = reviews_one_month_df['star_rating'].astype(float) ** 1.5\n",
    "prod_review_stats_df = reviews_one_month_df.groupby('product_id')['adj_star_rating'].agg(['count','mean','std'])\n",
    "prod_review_stats_df['orig_std'] = prod_review_stats_df['std']\n",
    "\n",
    "\n",
    "# if NA then use the std of the median variance\n",
    "prod_review_stats_df.loc[prod_review_stats_df['std'] == 0, 'std'] = np.nan\n",
    "na_std = prod_review_stats_df['std'].min()\n",
    "prod_review_stats_df['std'].fillna(na_std, inplace=True)\n",
    "\n",
    "# could add a power here to better differentiate \n",
    "prod_review_stats_df['review_proportion'] = prod_review_stats_df['count'] / prod_review_stats_df['count'].sum()\n",
    "\n",
    "prod_review_stats_df['review_success'] = (\n",
    "    (prod_review_stats_df['review_proportion'] * prod_review_stats_df['mean'])\n",
    "    / (prod_review_stats_df['std'])\n",
    ")\n",
    "\n",
    "# logistic (0.5 - 1, since review success will be positive)\n",
    "prod_review_stats_df['rating_factor_logit'] = expit(prod_review_stats_df['review_success'])\n",
    "\n",
    "# tanh (0 - 1 since review success will be positive)\n",
    "prod_review_stats_df['rating_factor_tanh'] = np.tanh(prod_review_stats_df['review_success'])"
   ]
  },
  {
   "cell_type": "markdown",
   "metadata": {},
   "source": [
    "Let's now make sure the top 10 in terms of the rating socre makes sense."
   ]
  },
  {
   "cell_type": "code",
   "execution_count": 328,
   "metadata": {
    "ExecuteTime": {
     "end_time": "2018-11-03T23:06:17.525820Z",
     "start_time": "2018-11-03T23:06:17.497301Z"
    }
   },
   "outputs": [
    {
     "data": {
      "text/html": [
       "<div>\n",
       "<style scoped>\n",
       "    .dataframe tbody tr th:only-of-type {\n",
       "        vertical-align: middle;\n",
       "    }\n",
       "\n",
       "    .dataframe tbody tr th {\n",
       "        vertical-align: top;\n",
       "    }\n",
       "\n",
       "    .dataframe thead th {\n",
       "        text-align: right;\n",
       "    }\n",
       "</style>\n",
       "<table border=\"1\" class=\"dataframe\">\n",
       "  <thead>\n",
       "    <tr style=\"text-align: right;\">\n",
       "      <th></th>\n",
       "      <th>count</th>\n",
       "      <th>mean</th>\n",
       "      <th>std</th>\n",
       "      <th>orig_std</th>\n",
       "      <th>review_proportion</th>\n",
       "      <th>review_success</th>\n",
       "      <th>rating_factor_logit</th>\n",
       "      <th>rating_factor_tanh</th>\n",
       "    </tr>\n",
       "    <tr>\n",
       "      <th>product_id</th>\n",
       "      <th></th>\n",
       "      <th></th>\n",
       "      <th></th>\n",
       "      <th></th>\n",
       "      <th></th>\n",
       "      <th></th>\n",
       "      <th></th>\n",
       "      <th></th>\n",
       "    </tr>\n",
       "  </thead>\n",
       "  <tbody>\n",
       "    <tr>\n",
       "      <th>B00JKNRYPM</th>\n",
       "      <td>21</td>\n",
       "      <td>11.028895</td>\n",
       "      <td>0.694007</td>\n",
       "      <td>0.694007</td>\n",
       "      <td>0.001528</td>\n",
       "      <td>0.024281</td>\n",
       "      <td>0.506070</td>\n",
       "      <td>0.024277</td>\n",
       "    </tr>\n",
       "    <tr>\n",
       "      <th>B00M4E5XD4</th>\n",
       "      <td>25</td>\n",
       "      <td>10.925913</td>\n",
       "      <td>0.880596</td>\n",
       "      <td>0.880596</td>\n",
       "      <td>0.001819</td>\n",
       "      <td>0.022569</td>\n",
       "      <td>0.505642</td>\n",
       "      <td>0.022565</td>\n",
       "    </tr>\n",
       "    <tr>\n",
       "      <th>B000STFRDI</th>\n",
       "      <td>18</td>\n",
       "      <td>11.180340</td>\n",
       "      <td>0.694007</td>\n",
       "      <td>0.000000</td>\n",
       "      <td>0.001310</td>\n",
       "      <td>0.021098</td>\n",
       "      <td>0.505274</td>\n",
       "      <td>0.021095</td>\n",
       "    </tr>\n",
       "    <tr>\n",
       "      <th>B00JLHVX36</th>\n",
       "      <td>48</td>\n",
       "      <td>10.417872</td>\n",
       "      <td>1.777290</td>\n",
       "      <td>1.777290</td>\n",
       "      <td>0.003492</td>\n",
       "      <td>0.020471</td>\n",
       "      <td>0.505118</td>\n",
       "      <td>0.020469</td>\n",
       "    </tr>\n",
       "    <tr>\n",
       "      <th>B000IZ9N78</th>\n",
       "      <td>76</td>\n",
       "      <td>9.740796</td>\n",
       "      <td>2.744408</td>\n",
       "      <td>2.744408</td>\n",
       "      <td>0.005530</td>\n",
       "      <td>0.019627</td>\n",
       "      <td>0.504907</td>\n",
       "      <td>0.019624</td>\n",
       "    </tr>\n",
       "    <tr>\n",
       "      <th>B00CQHYWLS</th>\n",
       "      <td>17</td>\n",
       "      <td>10.993261</td>\n",
       "      <td>0.771346</td>\n",
       "      <td>0.771346</td>\n",
       "      <td>0.001237</td>\n",
       "      <td>0.017628</td>\n",
       "      <td>0.504407</td>\n",
       "      <td>0.017627</td>\n",
       "    </tr>\n",
       "    <tr>\n",
       "      <th>B00IYDM814</th>\n",
       "      <td>32</td>\n",
       "      <td>10.720571</td>\n",
       "      <td>1.638441</td>\n",
       "      <td>1.638441</td>\n",
       "      <td>0.002328</td>\n",
       "      <td>0.015234</td>\n",
       "      <td>0.503809</td>\n",
       "      <td>0.015233</td>\n",
       "    </tr>\n",
       "    <tr>\n",
       "      <th>B00MJ8F22M</th>\n",
       "      <td>11</td>\n",
       "      <td>11.180340</td>\n",
       "      <td>0.694007</td>\n",
       "      <td>0.000000</td>\n",
       "      <td>0.000800</td>\n",
       "      <td>0.012893</td>\n",
       "      <td>0.503223</td>\n",
       "      <td>0.012893</td>\n",
       "    </tr>\n",
       "    <tr>\n",
       "      <th>B0016DE80I</th>\n",
       "      <td>8</td>\n",
       "      <td>11.180340</td>\n",
       "      <td>0.694007</td>\n",
       "      <td>0.000000</td>\n",
       "      <td>0.000582</td>\n",
       "      <td>0.009377</td>\n",
       "      <td>0.502344</td>\n",
       "      <td>0.009377</td>\n",
       "    </tr>\n",
       "    <tr>\n",
       "      <th>B00J49UTYU</th>\n",
       "      <td>8</td>\n",
       "      <td>11.180340</td>\n",
       "      <td>0.694007</td>\n",
       "      <td>0.000000</td>\n",
       "      <td>0.000582</td>\n",
       "      <td>0.009377</td>\n",
       "      <td>0.502344</td>\n",
       "      <td>0.009377</td>\n",
       "    </tr>\n",
       "  </tbody>\n",
       "</table>\n",
       "</div>"
      ],
      "text/plain": [
       "            count       mean       std  orig_std  review_proportion  \\\n",
       "product_id                                                            \n",
       "B00JKNRYPM     21  11.028895  0.694007  0.694007           0.001528   \n",
       "B00M4E5XD4     25  10.925913  0.880596  0.880596           0.001819   \n",
       "B000STFRDI     18  11.180340  0.694007  0.000000           0.001310   \n",
       "B00JLHVX36     48  10.417872  1.777290  1.777290           0.003492   \n",
       "B000IZ9N78     76   9.740796  2.744408  2.744408           0.005530   \n",
       "B00CQHYWLS     17  10.993261  0.771346  0.771346           0.001237   \n",
       "B00IYDM814     32  10.720571  1.638441  1.638441           0.002328   \n",
       "B00MJ8F22M     11  11.180340  0.694007  0.000000           0.000800   \n",
       "B0016DE80I      8  11.180340  0.694007  0.000000           0.000582   \n",
       "B00J49UTYU      8  11.180340  0.694007  0.000000           0.000582   \n",
       "\n",
       "            review_success  rating_factor_logit  rating_factor_tanh  \n",
       "product_id                                                           \n",
       "B00JKNRYPM        0.024281             0.506070            0.024277  \n",
       "B00M4E5XD4        0.022569             0.505642            0.022565  \n",
       "B000STFRDI        0.021098             0.505274            0.021095  \n",
       "B00JLHVX36        0.020471             0.505118            0.020469  \n",
       "B000IZ9N78        0.019627             0.504907            0.019624  \n",
       "B00CQHYWLS        0.017628             0.504407            0.017627  \n",
       "B00IYDM814        0.015234             0.503809            0.015233  \n",
       "B00MJ8F22M        0.012893             0.503223            0.012893  \n",
       "B0016DE80I        0.009377             0.502344            0.009377  \n",
       "B00J49UTYU        0.009377             0.502344            0.009377  "
      ]
     },
     "execution_count": 328,
     "metadata": {},
     "output_type": "execute_result"
    }
   ],
   "source": [
    "prod_review_stats_df.sort_values('rating_factor_tanh', ascending=False).head(10)"
   ]
  },
  {
   "cell_type": "markdown",
   "metadata": {},
   "source": [
    "Some of the reviews with all 5 start ratings, i.e. 11.18, are appearing in the top 10 with a high number of reviews. This appears to be a pretty reasonable ranking score. Now let's get the top 1% in terms of the ranking score."
   ]
  },
  {
   "cell_type": "code",
   "execution_count": 331,
   "metadata": {
    "ExecuteTime": {
     "end_time": "2018-11-03T23:07:11.626539Z",
     "start_time": "2018-11-03T23:07:11.617827Z"
    }
   },
   "outputs": [
    {
     "data": {
      "text/plain": [
       "0.004544969264926689"
      ]
     },
     "execution_count": 331,
     "metadata": {},
     "output_type": "execute_result"
    }
   ],
   "source": [
    "prod_review_stats_df.rating_factor_tanh.quantile(0.99)"
   ]
  },
  {
   "cell_type": "code",
   "execution_count": 337,
   "metadata": {
    "ExecuteTime": {
     "end_time": "2018-11-03T23:16:40.942281Z",
     "start_time": "2018-11-03T23:16:40.827428Z"
    }
   },
   "outputs": [
    {
     "data": {
      "text/html": [
       "<div>\n",
       "<style scoped>\n",
       "    .dataframe tbody tr th:only-of-type {\n",
       "        vertical-align: middle;\n",
       "    }\n",
       "\n",
       "    .dataframe tbody tr th {\n",
       "        vertical-align: top;\n",
       "    }\n",
       "\n",
       "    .dataframe thead th {\n",
       "        text-align: right;\n",
       "    }\n",
       "</style>\n",
       "<table border=\"1\" class=\"dataframe\">\n",
       "  <thead>\n",
       "    <tr style=\"text-align: right;\">\n",
       "      <th></th>\n",
       "      <th>count</th>\n",
       "      <th>mean</th>\n",
       "      <th>std</th>\n",
       "      <th>orig_std</th>\n",
       "      <th>review_proportion</th>\n",
       "      <th>review_success</th>\n",
       "      <th>rating_factor_logit</th>\n",
       "      <th>rating_factor_tanh</th>\n",
       "    </tr>\n",
       "  </thead>\n",
       "  <tbody>\n",
       "    <tr>\n",
       "      <th>count</th>\n",
       "      <td>100.000000</td>\n",
       "      <td>100.000000</td>\n",
       "      <td>100.000000</td>\n",
       "      <td>100.000000</td>\n",
       "      <td>100.000000</td>\n",
       "      <td>100.000000</td>\n",
       "      <td>100.000000</td>\n",
       "      <td>100.000000</td>\n",
       "    </tr>\n",
       "    <tr>\n",
       "      <th>mean</th>\n",
       "      <td>9.230000</td>\n",
       "      <td>10.925889</td>\n",
       "      <td>1.011157</td>\n",
       "      <td>0.476772</td>\n",
       "      <td>0.000672</td>\n",
       "      <td>0.006708</td>\n",
       "      <td>0.501677</td>\n",
       "      <td>0.006708</td>\n",
       "    </tr>\n",
       "    <tr>\n",
       "      <th>std</th>\n",
       "      <td>10.769256</td>\n",
       "      <td>0.683739</td>\n",
       "      <td>0.753243</td>\n",
       "      <td>0.997958</td>\n",
       "      <td>0.000784</td>\n",
       "      <td>0.004008</td>\n",
       "      <td>0.001002</td>\n",
       "      <td>0.004008</td>\n",
       "    </tr>\n",
       "    <tr>\n",
       "      <th>min</th>\n",
       "      <td>4.000000</td>\n",
       "      <td>7.152083</td>\n",
       "      <td>0.694007</td>\n",
       "      <td>0.000000</td>\n",
       "      <td>0.000291</td>\n",
       "      <td>0.004582</td>\n",
       "      <td>0.501145</td>\n",
       "      <td>0.004582</td>\n",
       "    </tr>\n",
       "    <tr>\n",
       "      <th>25%</th>\n",
       "      <td>4.000000</td>\n",
       "      <td>11.180340</td>\n",
       "      <td>0.694007</td>\n",
       "      <td>0.000000</td>\n",
       "      <td>0.000291</td>\n",
       "      <td>0.004689</td>\n",
       "      <td>0.501172</td>\n",
       "      <td>0.004689</td>\n",
       "    </tr>\n",
       "    <tr>\n",
       "      <th>50%</th>\n",
       "      <td>5.000000</td>\n",
       "      <td>11.180340</td>\n",
       "      <td>0.694007</td>\n",
       "      <td>0.000000</td>\n",
       "      <td>0.000364</td>\n",
       "      <td>0.005582</td>\n",
       "      <td>0.501395</td>\n",
       "      <td>0.005582</td>\n",
       "    </tr>\n",
       "    <tr>\n",
       "      <th>75%</th>\n",
       "      <td>8.000000</td>\n",
       "      <td>11.180340</td>\n",
       "      <td>0.694007</td>\n",
       "      <td>0.000000</td>\n",
       "      <td>0.000582</td>\n",
       "      <td>0.006895</td>\n",
       "      <td>0.501724</td>\n",
       "      <td>0.006895</td>\n",
       "    </tr>\n",
       "    <tr>\n",
       "      <th>max</th>\n",
       "      <td>76.000000</td>\n",
       "      <td>11.180340</td>\n",
       "      <td>4.542981</td>\n",
       "      <td>4.542981</td>\n",
       "      <td>0.005530</td>\n",
       "      <td>0.024281</td>\n",
       "      <td>0.506070</td>\n",
       "      <td>0.024277</td>\n",
       "    </tr>\n",
       "  </tbody>\n",
       "</table>\n",
       "</div>"
      ],
      "text/plain": [
       "            count        mean         std    orig_std  review_proportion  \\\n",
       "count  100.000000  100.000000  100.000000  100.000000         100.000000   \n",
       "mean     9.230000   10.925889    1.011157    0.476772           0.000672   \n",
       "std     10.769256    0.683739    0.753243    0.997958           0.000784   \n",
       "min      4.000000    7.152083    0.694007    0.000000           0.000291   \n",
       "25%      4.000000   11.180340    0.694007    0.000000           0.000291   \n",
       "50%      5.000000   11.180340    0.694007    0.000000           0.000364   \n",
       "75%      8.000000   11.180340    0.694007    0.000000           0.000582   \n",
       "max     76.000000   11.180340    4.542981    4.542981           0.005530   \n",
       "\n",
       "       review_success  rating_factor_logit  rating_factor_tanh  \n",
       "count      100.000000           100.000000          100.000000  \n",
       "mean         0.006708             0.501677            0.006708  \n",
       "std          0.004008             0.001002            0.004008  \n",
       "min          0.004582             0.501145            0.004582  \n",
       "25%          0.004689             0.501172            0.004689  \n",
       "50%          0.005582             0.501395            0.005582  \n",
       "75%          0.006895             0.501724            0.006895  \n",
       "max          0.024281             0.506070            0.024277  "
      ]
     },
     "execution_count": 337,
     "metadata": {},
     "output_type": "execute_result"
    }
   ],
   "source": [
    "top_1_p = (prod_review_stats_df[\n",
    "    prod_review_stats_df['rating_factor_tanh']\n",
    "    > prod_review_stats_df.rating_factor_tanh.quantile(0.99)]\n",
    "          )\n",
    "\n",
    "top_1_p.describe()"
   ]
  },
  {
   "cell_type": "markdown",
   "metadata": {},
   "source": [
    "Let's look at the product with the lowest mean rating."
   ]
  },
  {
   "cell_type": "code",
   "execution_count": 344,
   "metadata": {
    "ExecuteTime": {
     "end_time": "2018-11-03T23:21:08.763138Z",
     "start_time": "2018-11-03T23:21:08.746724Z"
    }
   },
   "outputs": [
    {
     "data": {
      "text/html": [
       "<div>\n",
       "<style scoped>\n",
       "    .dataframe tbody tr th:only-of-type {\n",
       "        vertical-align: middle;\n",
       "    }\n",
       "\n",
       "    .dataframe tbody tr th {\n",
       "        vertical-align: top;\n",
       "    }\n",
       "\n",
       "    .dataframe thead th {\n",
       "        text-align: right;\n",
       "    }\n",
       "</style>\n",
       "<table border=\"1\" class=\"dataframe\">\n",
       "  <thead>\n",
       "    <tr style=\"text-align: right;\">\n",
       "      <th></th>\n",
       "      <th>count</th>\n",
       "      <th>mean</th>\n",
       "      <th>std</th>\n",
       "      <th>orig_std</th>\n",
       "      <th>review_proportion</th>\n",
       "      <th>review_success</th>\n",
       "      <th>rating_factor_logit</th>\n",
       "      <th>rating_factor_tanh</th>\n",
       "    </tr>\n",
       "    <tr>\n",
       "      <th>product_id</th>\n",
       "      <th></th>\n",
       "      <th></th>\n",
       "      <th></th>\n",
       "      <th></th>\n",
       "      <th></th>\n",
       "      <th></th>\n",
       "      <th></th>\n",
       "      <th></th>\n",
       "    </tr>\n",
       "  </thead>\n",
       "  <tbody>\n",
       "    <tr>\n",
       "      <th>B00U2UO2G6</th>\n",
       "      <td>40</td>\n",
       "      <td>7.152083</td>\n",
       "      <td>4.542981</td>\n",
       "      <td>4.542981</td>\n",
       "      <td>0.00291</td>\n",
       "      <td>0.004582</td>\n",
       "      <td>0.501145</td>\n",
       "      <td>0.004582</td>\n",
       "    </tr>\n",
       "  </tbody>\n",
       "</table>\n",
       "</div>"
      ],
      "text/plain": [
       "            count      mean       std  orig_std  review_proportion  \\\n",
       "product_id                                                           \n",
       "B00U2UO2G6     40  7.152083  4.542981  4.542981            0.00291   \n",
       "\n",
       "            review_success  rating_factor_logit  rating_factor_tanh  \n",
       "product_id                                                           \n",
       "B00U2UO2G6        0.004582             0.501145            0.004582  "
      ]
     },
     "execution_count": 344,
     "metadata": {},
     "output_type": "execute_result"
    }
   ],
   "source": [
    "top_1_p.sort_values('mean').head(1)"
   ]
  },
  {
   "cell_type": "code",
   "execution_count": 347,
   "metadata": {
    "ExecuteTime": {
     "end_time": "2018-11-03T23:22:19.056336Z",
     "start_time": "2018-11-03T23:22:19.035977Z"
    }
   },
   "outputs": [
    {
     "data": {
      "text/plain": [
       "product_id\n",
       "B00U2UO2G6    3.712117\n",
       "Name: mean, dtype: float64"
      ]
     },
     "execution_count": 347,
     "metadata": {},
     "output_type": "execute_result"
    }
   ],
   "source": [
    "top_1_p.sort_values('mean').head(1)['mean'] ** (1/1.5)"
   ]
  },
  {
   "cell_type": "markdown",
   "metadata": {},
   "source": [
    "The lowest rated product is in 3.7 star rating range, but highly reviewed. This is a sub-sample of 1000 products, so it could be filtered out in a larger more robust sample of products. This rating is above average, and we are effectively filtering out the highlight negative reviewed products, which is the goal.\n",
    "\n",
    "### Create the observation data set"
   ]
  },
  {
   "cell_type": "code",
   "execution_count": 353,
   "metadata": {
    "ExecuteTime": {
     "end_time": "2018-11-03T23:30:23.035832Z",
     "start_time": "2018-11-03T23:30:23.027234Z"
    }
   },
   "outputs": [],
   "source": [
    "prod_review_stats_df['trend'] = (prod_review_stats_df['rating_factor_tanh']\n",
    "                                    > prod_review_stats_df.rating_factor_tanh.quantile(0.99)\n",
    "                                ).astype(int)\n",
    "\n",
    "obs = prod_review_stats_df.reset_index()\n",
    "obs = obs.loc[:,['product_id', 'trend']]"
   ]
  },
  {
   "cell_type": "markdown",
   "metadata": {
    "ExecuteTime": {
     "end_time": "2018-11-03T23:31:44.641793Z",
     "start_time": "2018-11-03T23:31:44.629221Z"
    }
   },
   "source": [
    "Get the first review for each product from the one month data frame."
   ]
  },
  {
   "cell_type": "code",
   "execution_count": 363,
   "metadata": {
    "ExecuteTime": {
     "end_time": "2018-11-03T23:40:28.349652Z",
     "start_time": "2018-11-03T23:40:28.105728Z"
    }
   },
   "outputs": [],
   "source": [
    "first_review_df = reviews_one_month_df.groupby('product_id')['review_date'].min().reset_index()\n",
    "first_review_df = first_review_df.merge(\n",
    "                    reviews_one_month_df, \n",
    "                    on = ['product_id','review_date'],\n",
    "                    how = 'inner')\n",
    "obs = obs.merge(first_review_df.loc[:,['product_id','review_headline', 'review_body']], \n",
    "                   on='product_id')"
   ]
  },
  {
   "cell_type": "code",
   "execution_count": 365,
   "metadata": {
    "ExecuteTime": {
     "end_time": "2018-11-03T23:40:38.472461Z",
     "start_time": "2018-11-03T23:40:38.462092Z"
    }
   },
   "outputs": [
    {
     "data": {
      "text/html": [
       "<div>\n",
       "<style scoped>\n",
       "    .dataframe tbody tr th:only-of-type {\n",
       "        vertical-align: middle;\n",
       "    }\n",
       "\n",
       "    .dataframe tbody tr th {\n",
       "        vertical-align: top;\n",
       "    }\n",
       "\n",
       "    .dataframe thead th {\n",
       "        text-align: right;\n",
       "    }\n",
       "</style>\n",
       "<table border=\"1\" class=\"dataframe\">\n",
       "  <thead>\n",
       "    <tr style=\"text-align: right;\">\n",
       "      <th></th>\n",
       "      <th>product_id</th>\n",
       "      <th>trend</th>\n",
       "      <th>review_headline</th>\n",
       "      <th>review_body</th>\n",
       "    </tr>\n",
       "  </thead>\n",
       "  <tbody>\n",
       "    <tr>\n",
       "      <th>0</th>\n",
       "      <td>0641832613</td>\n",
       "      <td>0</td>\n",
       "      <td>My daughter LOVES Mistletoe but this price mus...</td>\n",
       "      <td>Adorable!  My daughter loves Mistletoe!  She g...</td>\n",
       "    </tr>\n",
       "    <tr>\n",
       "      <th>1</th>\n",
       "      <td>069221657X</td>\n",
       "      <td>0</td>\n",
       "      <td>You will love this Red Box</td>\n",
       "      <td>If you are a fan of the old D&amp;D Red Box... You...</td>\n",
       "    </tr>\n",
       "    <tr>\n",
       "      <th>2</th>\n",
       "      <td>0735323364</td>\n",
       "      <td>0</td>\n",
       "      <td>These are reasonably priced, encourage imagina...</td>\n",
       "      <td>These are reasonably priced, encourage imagina...</td>\n",
       "    </tr>\n",
       "    <tr>\n",
       "      <th>3</th>\n",
       "      <td>0735327696</td>\n",
       "      <td>0</td>\n",
       "      <td>Hours, no DAYS of entertainment</td>\n",
       "      <td>Has provided hours, no DAYS of entertainment f...</td>\n",
       "    </tr>\n",
       "    <tr>\n",
       "      <th>4</th>\n",
       "      <td>0735329699</td>\n",
       "      <td>0</td>\n",
       "      <td>Temporary Fun</td>\n",
       "      <td>Got this for a road trip so we could have a po...</td>\n",
       "    </tr>\n",
       "  </tbody>\n",
       "</table>\n",
       "</div>"
      ],
      "text/plain": [
       "   product_id  trend                                    review_headline  \\\n",
       "0  0641832613      0  My daughter LOVES Mistletoe but this price mus...   \n",
       "1  069221657X      0                         You will love this Red Box   \n",
       "2  0735323364      0  These are reasonably priced, encourage imagina...   \n",
       "3  0735327696      0                    Hours, no DAYS of entertainment   \n",
       "4  0735329699      0                                      Temporary Fun   \n",
       "\n",
       "                                         review_body  \n",
       "0  Adorable!  My daughter loves Mistletoe!  She g...  \n",
       "1  If you are a fan of the old D&D Red Box... You...  \n",
       "2  These are reasonably priced, encourage imagina...  \n",
       "3  Has provided hours, no DAYS of entertainment f...  \n",
       "4  Got this for a road trip so we could have a po...  "
      ]
     },
     "execution_count": 365,
     "metadata": {},
     "output_type": "execute_result"
    }
   ],
   "source": [
    "obs.head()"
   ]
  },
  {
   "cell_type": "markdown",
   "metadata": {},
   "source": [
    "Perform train / test split and will only use `review_body` for the interim."
   ]
  },
  {
   "cell_type": "code",
   "execution_count": 381,
   "metadata": {
    "ExecuteTime": {
     "end_time": "2018-11-03T23:53:55.212660Z",
     "start_time": "2018-11-03T23:53:54.498002Z"
    }
   },
   "outputs": [
    {
     "data": {
      "text/html": [
       "<div>\n",
       "<style scoped>\n",
       "    .dataframe tbody tr th:only-of-type {\n",
       "        vertical-align: middle;\n",
       "    }\n",
       "\n",
       "    .dataframe tbody tr th {\n",
       "        vertical-align: top;\n",
       "    }\n",
       "\n",
       "    .dataframe thead th {\n",
       "        text-align: right;\n",
       "    }\n",
       "</style>\n",
       "<table border=\"1\" class=\"dataframe\">\n",
       "  <thead>\n",
       "    <tr style=\"text-align: right;\">\n",
       "      <th></th>\n",
       "      <th>product_id</th>\n",
       "      <th>trend</th>\n",
       "      <th>review_headline</th>\n",
       "      <th>review_body</th>\n",
       "    </tr>\n",
       "  </thead>\n",
       "  <tbody>\n",
       "    <tr>\n",
       "      <th>0</th>\n",
       "      <td>0641832613</td>\n",
       "      <td>0</td>\n",
       "      <td>My daughter LOVES Mistletoe but this price mus...</td>\n",
       "      <td>adorable   my daughter loves mistletoe   she g...</td>\n",
       "    </tr>\n",
       "    <tr>\n",
       "      <th>1</th>\n",
       "      <td>069221657X</td>\n",
       "      <td>0</td>\n",
       "      <td>You will love this Red Box</td>\n",
       "      <td>if you are a fan of the old d d red box    you...</td>\n",
       "    </tr>\n",
       "    <tr>\n",
       "      <th>2</th>\n",
       "      <td>0735323364</td>\n",
       "      <td>0</td>\n",
       "      <td>These are reasonably priced, encourage imagina...</td>\n",
       "      <td>these are reasonably priced  encourage imagina...</td>\n",
       "    </tr>\n",
       "    <tr>\n",
       "      <th>3</th>\n",
       "      <td>0735327696</td>\n",
       "      <td>0</td>\n",
       "      <td>Hours, no DAYS of entertainment</td>\n",
       "      <td>has provided hours  no days of entertainment f...</td>\n",
       "    </tr>\n",
       "    <tr>\n",
       "      <th>4</th>\n",
       "      <td>0735329699</td>\n",
       "      <td>0</td>\n",
       "      <td>Temporary Fun</td>\n",
       "      <td>got this for a road trip so we could have a po...</td>\n",
       "    </tr>\n",
       "  </tbody>\n",
       "</table>\n",
       "</div>"
      ],
      "text/plain": [
       "   product_id  trend                                    review_headline  \\\n",
       "0  0641832613      0  My daughter LOVES Mistletoe but this price mus...   \n",
       "1  069221657X      0                         You will love this Red Box   \n",
       "2  0735323364      0  These are reasonably priced, encourage imagina...   \n",
       "3  0735327696      0                    Hours, no DAYS of entertainment   \n",
       "4  0735329699      0                                      Temporary Fun   \n",
       "\n",
       "                                         review_body  \n",
       "0  adorable   my daughter loves mistletoe   she g...  \n",
       "1  if you are a fan of the old d d red box    you...  \n",
       "2  these are reasonably priced  encourage imagina...  \n",
       "3  has provided hours  no days of entertainment f...  \n",
       "4  got this for a road trip so we could have a po...  "
      ]
     },
     "execution_count": 381,
     "metadata": {},
     "output_type": "execute_result"
    }
   ],
   "source": [
    "# Text preprocessing steps - remove numbers, captial letters and punctuation\n",
    "import re\n",
    "import string\n",
    "\n",
    "alphanumeric = lambda x: re.sub(r\"\"\"\\w*\\d\\w*\"\"\", ' ', x)\n",
    "punc_lower = lambda x: re.sub('[%s]' % re.escape(string.punctuation), ' ', x.lower())\n",
    "\n",
    "obs.dropna(inplace=True) # 2 reivew bodys with nothing\n",
    "obs['review_body'] = obs.review_body.map(alphanumeric).map(punc_lower)\n",
    "obs.head()"
   ]
  },
  {
   "cell_type": "code",
   "execution_count": 382,
   "metadata": {
    "ExecuteTime": {
     "end_time": "2018-11-03T23:57:15.756698Z",
     "start_time": "2018-11-03T23:57:15.752671Z"
    }
   },
   "outputs": [],
   "source": [
    "X = obs.review_body\n",
    "y = obs.trend"
   ]
  },
  {
   "cell_type": "code",
   "execution_count": 384,
   "metadata": {
    "ExecuteTime": {
     "end_time": "2018-11-03T23:59:17.345904Z",
     "start_time": "2018-11-03T23:59:17.326078Z"
    }
   },
   "outputs": [],
   "source": [
    "from sklearn.model_selection import train_test_split\n",
    "\n",
    "X_train, X_test, y_train, y_test = train_test_split(X, y, test_size=.2, random_state=42, stratify=y)"
   ]
  },
  {
   "cell_type": "code",
   "execution_count": 385,
   "metadata": {
    "ExecuteTime": {
     "end_time": "2018-11-04T00:00:50.589938Z",
     "start_time": "2018-11-04T00:00:49.968348Z"
    }
   },
   "outputs": [
    {
     "data": {
      "text/html": [
       "<div>\n",
       "<style scoped>\n",
       "    .dataframe tbody tr th:only-of-type {\n",
       "        vertical-align: middle;\n",
       "    }\n",
       "\n",
       "    .dataframe tbody tr th {\n",
       "        vertical-align: top;\n",
       "    }\n",
       "\n",
       "    .dataframe thead th {\n",
       "        text-align: right;\n",
       "    }\n",
       "</style>\n",
       "<table border=\"1\" class=\"dataframe\">\n",
       "  <thead>\n",
       "    <tr style=\"text-align: right;\">\n",
       "      <th></th>\n",
       "      <th>aa</th>\n",
       "      <th>aaa</th>\n",
       "      <th>aaaaa</th>\n",
       "      <th>aaaaaa</th>\n",
       "      <th>aaron</th>\n",
       "      <th>ab</th>\n",
       "      <th>abacus</th>\n",
       "      <th>abandoned</th>\n",
       "      <th>abbey</th>\n",
       "      <th>abby</th>\n",
       "      <th>...</th>\n",
       "      <th>zoids</th>\n",
       "      <th>zombie</th>\n",
       "      <th>zombies</th>\n",
       "      <th>zombiezoo</th>\n",
       "      <th>zone</th>\n",
       "      <th>zones</th>\n",
       "      <th>zoo</th>\n",
       "      <th>zookeepers</th>\n",
       "      <th>zooms</th>\n",
       "      <th>zulilly</th>\n",
       "    </tr>\n",
       "  </thead>\n",
       "  <tbody>\n",
       "    <tr>\n",
       "      <th>0</th>\n",
       "      <td>0</td>\n",
       "      <td>0</td>\n",
       "      <td>0</td>\n",
       "      <td>0</td>\n",
       "      <td>0</td>\n",
       "      <td>0</td>\n",
       "      <td>0</td>\n",
       "      <td>0</td>\n",
       "      <td>0</td>\n",
       "      <td>0</td>\n",
       "      <td>...</td>\n",
       "      <td>0</td>\n",
       "      <td>0</td>\n",
       "      <td>0</td>\n",
       "      <td>0</td>\n",
       "      <td>0</td>\n",
       "      <td>0</td>\n",
       "      <td>0</td>\n",
       "      <td>0</td>\n",
       "      <td>0</td>\n",
       "      <td>0</td>\n",
       "    </tr>\n",
       "    <tr>\n",
       "      <th>1</th>\n",
       "      <td>0</td>\n",
       "      <td>0</td>\n",
       "      <td>0</td>\n",
       "      <td>0</td>\n",
       "      <td>0</td>\n",
       "      <td>0</td>\n",
       "      <td>0</td>\n",
       "      <td>0</td>\n",
       "      <td>0</td>\n",
       "      <td>0</td>\n",
       "      <td>...</td>\n",
       "      <td>0</td>\n",
       "      <td>0</td>\n",
       "      <td>0</td>\n",
       "      <td>0</td>\n",
       "      <td>0</td>\n",
       "      <td>0</td>\n",
       "      <td>0</td>\n",
       "      <td>0</td>\n",
       "      <td>0</td>\n",
       "      <td>0</td>\n",
       "    </tr>\n",
       "    <tr>\n",
       "      <th>2</th>\n",
       "      <td>0</td>\n",
       "      <td>0</td>\n",
       "      <td>0</td>\n",
       "      <td>0</td>\n",
       "      <td>0</td>\n",
       "      <td>0</td>\n",
       "      <td>0</td>\n",
       "      <td>0</td>\n",
       "      <td>0</td>\n",
       "      <td>0</td>\n",
       "      <td>...</td>\n",
       "      <td>0</td>\n",
       "      <td>0</td>\n",
       "      <td>0</td>\n",
       "      <td>0</td>\n",
       "      <td>0</td>\n",
       "      <td>0</td>\n",
       "      <td>0</td>\n",
       "      <td>0</td>\n",
       "      <td>0</td>\n",
       "      <td>0</td>\n",
       "    </tr>\n",
       "    <tr>\n",
       "      <th>3</th>\n",
       "      <td>0</td>\n",
       "      <td>0</td>\n",
       "      <td>0</td>\n",
       "      <td>0</td>\n",
       "      <td>0</td>\n",
       "      <td>0</td>\n",
       "      <td>0</td>\n",
       "      <td>0</td>\n",
       "      <td>0</td>\n",
       "      <td>0</td>\n",
       "      <td>...</td>\n",
       "      <td>0</td>\n",
       "      <td>0</td>\n",
       "      <td>0</td>\n",
       "      <td>0</td>\n",
       "      <td>0</td>\n",
       "      <td>0</td>\n",
       "      <td>0</td>\n",
       "      <td>0</td>\n",
       "      <td>0</td>\n",
       "      <td>0</td>\n",
       "    </tr>\n",
       "    <tr>\n",
       "      <th>4</th>\n",
       "      <td>0</td>\n",
       "      <td>0</td>\n",
       "      <td>0</td>\n",
       "      <td>0</td>\n",
       "      <td>0</td>\n",
       "      <td>0</td>\n",
       "      <td>0</td>\n",
       "      <td>0</td>\n",
       "      <td>0</td>\n",
       "      <td>0</td>\n",
       "      <td>...</td>\n",
       "      <td>0</td>\n",
       "      <td>0</td>\n",
       "      <td>0</td>\n",
       "      <td>0</td>\n",
       "      <td>0</td>\n",
       "      <td>0</td>\n",
       "      <td>0</td>\n",
       "      <td>0</td>\n",
       "      <td>0</td>\n",
       "      <td>0</td>\n",
       "    </tr>\n",
       "  </tbody>\n",
       "</table>\n",
       "<p>5 rows × 11907 columns</p>\n",
       "</div>"
      ],
      "text/plain": [
       "   aa  aaa  aaaaa  aaaaaa  aaron  ab  abacus  abandoned  abbey  abby   ...     \\\n",
       "0   0    0      0       0      0   0       0          0      0     0   ...      \n",
       "1   0    0      0       0      0   0       0          0      0     0   ...      \n",
       "2   0    0      0       0      0   0       0          0      0     0   ...      \n",
       "3   0    0      0       0      0   0       0          0      0     0   ...      \n",
       "4   0    0      0       0      0   0       0          0      0     0   ...      \n",
       "\n",
       "   zoids  zombie  zombies  zombiezoo  zone  zones  zoo  zookeepers  zooms  \\\n",
       "0      0       0        0          0     0      0    0           0      0   \n",
       "1      0       0        0          0     0      0    0           0      0   \n",
       "2      0       0        0          0     0      0    0           0      0   \n",
       "3      0       0        0          0     0      0    0           0      0   \n",
       "4      0       0        0          0     0      0    0           0      0   \n",
       "\n",
       "   zulilly  \n",
       "0        0  \n",
       "1        0  \n",
       "2        0  \n",
       "3        0  \n",
       "4        0  \n",
       "\n",
       "[5 rows x 11907 columns]"
      ]
     },
     "execution_count": 385,
     "metadata": {},
     "output_type": "execute_result"
    }
   ],
   "source": [
    "# The first document-term matrix has default Count Vectorizer values - counts of unigrams\n",
    "from sklearn.feature_extraction.text import CountVectorizer\n",
    "\n",
    "cv1 = CountVectorizer(stop_words='english')\n",
    "\n",
    "X_train_cv1 = cv1.fit_transform(X_train)\n",
    "X_test_cv1  = cv1.transform(X_test)\n",
    "\n",
    "pd.DataFrame(X_train_cv1.toarray(), columns=cv1.get_feature_names()).head()"
   ]
  },
  {
   "cell_type": "markdown",
   "metadata": {},
   "source": [
    "### Try Logistic Regression"
   ]
  },
  {
   "cell_type": "code",
   "execution_count": 386,
   "metadata": {
    "ExecuteTime": {
     "end_time": "2018-11-04T00:02:53.890490Z",
     "start_time": "2018-11-04T00:02:47.181111Z"
    }
   },
   "outputs": [],
   "source": [
    "# Create a logistic regression model to use\n",
    "from sklearn.linear_model import LogisticRegression\n",
    "lr = LogisticRegression()\n",
    "lr.fit(X_train_cv1, y_train)\n",
    "y_pred_cv1 = lr.predict(X_train_cv1)"
   ]
  },
  {
   "cell_type": "code",
   "execution_count": 387,
   "metadata": {
    "ExecuteTime": {
     "end_time": "2018-11-04T00:03:17.306388Z",
     "start_time": "2018-11-04T00:03:17.291367Z"
    }
   },
   "outputs": [],
   "source": [
    "# Create a function to calculate the error metrics, since we'll be doing this several times\n",
    "from sklearn.metrics import confusion_matrix\n",
    "\n",
    "def conf_matrix(actual, predicted):\n",
    "    cm = confusion_matrix(actual, predicted)\n",
    "    sns.heatmap(cm, xticklabels=['predicted_negative', 'predicted_positive'], \n",
    "                yticklabels=['actual_negative', 'actual_positive'], annot=True,\n",
    "                fmt='d', annot_kws={'fontsize':20}, cmap=\"YlGnBu\");\n",
    "\n",
    "    true_neg, false_pos = cm[0]\n",
    "    false_neg, true_pos = cm[1]\n",
    "\n",
    "    accuracy = round((true_pos + true_neg) / (true_pos + true_neg + false_pos + false_neg),3)\n",
    "    precision = round((true_pos) / (true_pos + false_pos),3)\n",
    "    recall = round((true_pos) / (true_pos + false_neg),3)\n",
    "    f1 = round(2 * (precision * recall) / (precision + recall),3)\n",
    "\n",
    "    cm_results = [accuracy, precision, recall, f1]\n",
    "    return cm_results"
   ]
  },
  {
   "cell_type": "code",
   "execution_count": 389,
   "metadata": {
    "ExecuteTime": {
     "end_time": "2018-11-04T00:03:54.586097Z",
     "start_time": "2018-11-04T00:03:54.213923Z"
    }
   },
   "outputs": [
    {
     "data": {
      "image/png": "[encoded data removed]",
      "text/plain": [
       "<Figure size 432x288 with 2 Axes>"
      ]
     },
     "metadata": {},
     "output_type": "display_data"
    }
   ],
   "source": [
    "# The heat map for the first logistic regression model\n",
    "cm1 = conf_matrix(y_train, y_pred_cv1)"
   ]
  },
  {
   "cell_type": "code",
   "execution_count": 390,
   "metadata": {
    "ExecuteTime": {
     "end_time": "2018-11-04T00:04:50.933799Z",
     "start_time": "2018-11-04T00:04:50.918369Z"
    }
   },
   "outputs": [
    {
     "data": {
      "text/html": [
       "<div>\n",
       "<style scoped>\n",
       "    .dataframe tbody tr th:only-of-type {\n",
       "        vertical-align: middle;\n",
       "    }\n",
       "\n",
       "    .dataframe tbody tr th {\n",
       "        vertical-align: top;\n",
       "    }\n",
       "\n",
       "    .dataframe thead th {\n",
       "        text-align: right;\n",
       "    }\n",
       "</style>\n",
       "<table border=\"1\" class=\"dataframe\">\n",
       "  <thead>\n",
       "    <tr style=\"text-align: right;\">\n",
       "      <th></th>\n",
       "      <th>LogReg1</th>\n",
       "    </tr>\n",
       "  </thead>\n",
       "  <tbody>\n",
       "    <tr>\n",
       "      <th>Accuracy</th>\n",
       "      <td>0.991</td>\n",
       "    </tr>\n",
       "    <tr>\n",
       "      <th>Precision</th>\n",
       "      <td>1.000</td>\n",
       "    </tr>\n",
       "    <tr>\n",
       "      <th>Recall</th>\n",
       "      <td>0.194</td>\n",
       "    </tr>\n",
       "    <tr>\n",
       "      <th>F1 Score</th>\n",
       "      <td>0.325</td>\n",
       "    </tr>\n",
       "  </tbody>\n",
       "</table>\n",
       "</div>"
      ],
      "text/plain": [
       "           LogReg1\n",
       "Accuracy     0.991\n",
       "Precision    1.000\n",
       "Recall       0.194\n",
       "F1 Score     0.325"
      ]
     },
     "execution_count": 390,
     "metadata": {},
     "output_type": "execute_result"
    }
   ],
   "source": [
    "# Compile all of the error metrics into a dataframe for comparison\n",
    "results = pd.DataFrame(list(cm1))\n",
    "results = results.set_index([['Accuracy', 'Precision', 'Recall', 'F1 Score']])\n",
    "results.columns = ['LogReg1']\n",
    "results"
   ]
  },
  {
   "cell_type": "markdown",
   "metadata": {},
   "source": [
    "Accuracy is the same as if the negative is predicted for the entire data set. However, recall is better. There is some predictive power with a simple model. The question is whether or not the following will help.\n",
    "\n",
    "* Hyper-tuning parameters\n",
    "* Other dtm transformations\n",
    "* Sampling processes\n",
    "\n",
    "\n",
    "** Should really build a class to allow for quick running of these different experiments **\n",
    "\n",
    "** Some products duplicated beacuse multiple reviews on the same day, which needs to be cleaned or combined **"
   ]
  },
  {
   "cell_type": "code",
   "execution_count": null,
   "metadata": {},
   "outputs": [],
   "source": []
  }
 ],
 "metadata": {
  "kernelspec": {
   "display_name": "Python 3",
   "language": "python",
   "name": "python3"
  },
  "language_info": {
   "codemirror_mode": {
    "name": "ipython",
    "version": 3
   },
   "file_extension": ".py",
   "mimetype": "text/x-python",
   "name": "python",
   "nbconvert_exporter": "python",
   "pygments_lexer": "ipython3",
   "version": "3.6.5"
  }
 },
 "nbformat": 4,
 "nbformat_minor": 2
}
