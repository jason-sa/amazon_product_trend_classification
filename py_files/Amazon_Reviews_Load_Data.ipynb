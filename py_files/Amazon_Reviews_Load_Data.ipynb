{
 "cells": [
  {
   "cell_type": "markdown",
   "metadata": {},
   "source": [
    "## Load Amazon Review Data\n",
    "\n",
    "This notebook will load the Amazon Review Data for the Toy category. The data is an open data set hosted on AWS and can be accessed at https://s3.amazonaws.com/amazon-reviews-pds/readme.html"
   ]
  },
  {
   "cell_type": "code",
   "execution_count": 1,
   "metadata": {
    "ExecuteTime": {
     "end_time": "2018-11-09T00:33:56.862991Z",
     "start_time": "2018-11-09T00:33:54.595017Z"
    }
   },
   "outputs": [],
   "source": [
    "import AmazonReviews"
   ]
  },
  {
   "cell_type": "markdown",
   "metadata": {},
   "source": [
    "A custom class was developed to load the Amazon review data. This same class can be utilized for any of the Amazon review data files. The data was download to our data directory and will now be loaded. The data is filterd to be only from 2014 to 2015. The fitler is configurable."
   ]
  },
  {
   "cell_type": "code",
   "execution_count": 5,
   "metadata": {
    "ExecuteTime": {
     "end_time": "2018-11-09T00:41:02.381614Z",
     "start_time": "2018-11-09T00:40:25.946087Z"
    }
   },
   "outputs": [
    {
     "name": "stdout",
     "output_type": "stream",
     "text": [
      "Read from pickle...\n",
      "2014-01-01 00:00:00\n"
     ]
    }
   ],
   "source": [
    "ar = AmazonReviews.AmazonReviews()\n",
    "\n",
    "PATH = '../data/amazon_reviews_us_Toys_v1_00.tsv'\n",
    "ar.load_data(PATH)\n",
    "\n",
    "print(ar.date_filter)"
   ]
  },
  {
   "cell_type": "markdown",
   "metadata": {},
   "source": [
    "The `load_data` function will attempt to read the file from a pickle file, if one does not exist, then the data is loaded from the raw file. If the data is read from a raw file, then a pickle is created for subsequent loads. The pickled data is the **unfiltered** data frame.\n",
    "\n",
    "The result of loading the data is a populated data frame called `reviews_df`."
   ]
  },
  {
   "cell_type": "code",
   "execution_count": 4,
   "metadata": {
    "ExecuteTime": {
     "end_time": "2018-11-09T00:39:16.491798Z",
     "start_time": "2018-11-09T00:39:16.243921Z"
    }
   },
   "outputs": [
    {
     "data": {
      "text/html": [
       "<div>\n",
       "<style scoped>\n",
       "    .dataframe tbody tr th:only-of-type {\n",
       "        vertical-align: middle;\n",
       "    }\n",
       "\n",
       "    .dataframe tbody tr th {\n",
       "        vertical-align: top;\n",
       "    }\n",
       "\n",
       "    .dataframe thead th {\n",
       "        text-align: right;\n",
       "    }\n",
       "</style>\n",
       "<table border=\"1\" class=\"dataframe\">\n",
       "  <thead>\n",
       "    <tr style=\"text-align: right;\">\n",
       "      <th></th>\n",
       "      <th>marketplace</th>\n",
       "      <th>customer_id</th>\n",
       "      <th>review_id</th>\n",
       "      <th>product_id</th>\n",
       "      <th>product_parent</th>\n",
       "      <th>product_title</th>\n",
       "      <th>product_category</th>\n",
       "      <th>star_rating</th>\n",
       "      <th>helpful_votes</th>\n",
       "      <th>total_votes</th>\n",
       "      <th>vine</th>\n",
       "      <th>verified_purchase</th>\n",
       "      <th>review_headline</th>\n",
       "      <th>review_body</th>\n",
       "      <th>review_date</th>\n",
       "    </tr>\n",
       "  </thead>\n",
       "  <tbody>\n",
       "    <tr>\n",
       "      <th>2071829</th>\n",
       "      <td>US</td>\n",
       "      <td>13368032</td>\n",
       "      <td>R3IMZYKO7C6P4M</td>\n",
       "      <td>B00IN1PUZ8</td>\n",
       "      <td>478462468</td>\n",
       "      <td>Qandsweet® Baby Girl's Cute Crystal Hair Bows ...</td>\n",
       "      <td>Toys</td>\n",
       "      <td>5.0</td>\n",
       "      <td>0.0</td>\n",
       "      <td>0.0</td>\n",
       "      <td>N</td>\n",
       "      <td>N</td>\n",
       "      <td>Five Stars</td>\n",
       "      <td>So Beautiful. The headbands are very elegant!</td>\n",
       "      <td>2014-09-16</td>\n",
       "    </tr>\n",
       "    <tr>\n",
       "      <th>2640025</th>\n",
       "      <td>US</td>\n",
       "      <td>27448301</td>\n",
       "      <td>R2A3NO4V24CKKK</td>\n",
       "      <td>B000JZICFQ</td>\n",
       "      <td>204258426</td>\n",
       "      <td>Aurora Plush Prancer Red Roan Horse Mini Flops...</td>\n",
       "      <td>Toys</td>\n",
       "      <td>5.0</td>\n",
       "      <td>0.0</td>\n",
       "      <td>0.0</td>\n",
       "      <td>N</td>\n",
       "      <td>Y</td>\n",
       "      <td>Cute</td>\n",
       "      <td>This horse is smaller than I expected, but is ...</td>\n",
       "      <td>2014-03-12</td>\n",
       "    </tr>\n",
       "    <tr>\n",
       "      <th>2157824</th>\n",
       "      <td>US</td>\n",
       "      <td>45103869</td>\n",
       "      <td>R25JB11WNIV6P4</td>\n",
       "      <td>B001OW30VY</td>\n",
       "      <td>550465683</td>\n",
       "      <td>Yu-Gi-Oh! - Celtic Guardian Alternate Art YAP1...</td>\n",
       "      <td>Toys</td>\n",
       "      <td>5.0</td>\n",
       "      <td>0.0</td>\n",
       "      <td>0.0</td>\n",
       "      <td>N</td>\n",
       "      <td>N</td>\n",
       "      <td>Five Stars</td>\n",
       "      <td>awesome alternate artwork card.</td>\n",
       "      <td>2014-08-26</td>\n",
       "    </tr>\n",
       "    <tr>\n",
       "      <th>2334340</th>\n",
       "      <td>US</td>\n",
       "      <td>32422544</td>\n",
       "      <td>R3AIZKW04RTZGF</td>\n",
       "      <td>B005E0LADM</td>\n",
       "      <td>989175747</td>\n",
       "      <td>Monarch Butterfly Plush Wings by Adventure Kid...</td>\n",
       "      <td>Toys</td>\n",
       "      <td>5.0</td>\n",
       "      <td>0.0</td>\n",
       "      <td>0.0</td>\n",
       "      <td>N</td>\n",
       "      <td>Y</td>\n",
       "      <td>Good buy for the money</td>\n",
       "      <td>Good quality - fun.  My 7 year old loved these...</td>\n",
       "      <td>2014-07-14</td>\n",
       "    </tr>\n",
       "    <tr>\n",
       "      <th>572130</th>\n",
       "      <td>US</td>\n",
       "      <td>46078868</td>\n",
       "      <td>R1FFUBS9XG6T6M</td>\n",
       "      <td>B001UE85CU</td>\n",
       "      <td>768385606</td>\n",
       "      <td>Little Tikes Cozy Coupe Tikes Patrol, Ride-On</td>\n",
       "      <td>Toys</td>\n",
       "      <td>5.0</td>\n",
       "      <td>0.0</td>\n",
       "      <td>0.0</td>\n",
       "      <td>N</td>\n",
       "      <td>Y</td>\n",
       "      <td>He loves it!!</td>\n",
       "      <td>My 16 month old has had a ball with this!! Hub...</td>\n",
       "      <td>2015-05-11</td>\n",
       "    </tr>\n",
       "  </tbody>\n",
       "</table>\n",
       "</div>"
      ],
      "text/plain": [
       "        marketplace  customer_id       review_id  product_id  product_parent  \\\n",
       "2071829          US     13368032  R3IMZYKO7C6P4M  B00IN1PUZ8       478462468   \n",
       "2640025          US     27448301  R2A3NO4V24CKKK  B000JZICFQ       204258426   \n",
       "2157824          US     45103869  R25JB11WNIV6P4  B001OW30VY       550465683   \n",
       "2334340          US     32422544  R3AIZKW04RTZGF  B005E0LADM       989175747   \n",
       "572130           US     46078868  R1FFUBS9XG6T6M  B001UE85CU       768385606   \n",
       "\n",
       "                                             product_title product_category  \\\n",
       "2071829  Qandsweet® Baby Girl's Cute Crystal Hair Bows ...             Toys   \n",
       "2640025  Aurora Plush Prancer Red Roan Horse Mini Flops...             Toys   \n",
       "2157824  Yu-Gi-Oh! - Celtic Guardian Alternate Art YAP1...             Toys   \n",
       "2334340  Monarch Butterfly Plush Wings by Adventure Kid...             Toys   \n",
       "572130       Little Tikes Cozy Coupe Tikes Patrol, Ride-On             Toys   \n",
       "\n",
       "         star_rating  helpful_votes  total_votes vine verified_purchase  \\\n",
       "2071829          5.0            0.0          0.0    N                 N   \n",
       "2640025          5.0            0.0          0.0    N                 Y   \n",
       "2157824          5.0            0.0          0.0    N                 N   \n",
       "2334340          5.0            0.0          0.0    N                 Y   \n",
       "572130           5.0            0.0          0.0    N                 Y   \n",
       "\n",
       "                review_headline  \\\n",
       "2071829              Five Stars   \n",
       "2640025                    Cute   \n",
       "2157824              Five Stars   \n",
       "2334340  Good buy for the money   \n",
       "572130            He loves it!!   \n",
       "\n",
       "                                               review_body review_date  \n",
       "2071829      So Beautiful. The headbands are very elegant!  2014-09-16  \n",
       "2640025  This horse is smaller than I expected, but is ...  2014-03-12  \n",
       "2157824                    awesome alternate artwork card.  2014-08-26  \n",
       "2334340  Good quality - fun.  My 7 year old loved these...  2014-07-14  \n",
       "572130   My 16 month old has had a ball with this!! Hub...  2015-05-11  "
      ]
     },
     "execution_count": 4,
     "metadata": {},
     "output_type": "execute_result"
    }
   ],
   "source": [
    "ar.reviews_df.sample(5)"
   ]
  },
  {
   "cell_type": "markdown",
   "metadata": {},
   "source": [
    "The review data for Toys is now loaded. Next, we need to determine what products are trending. The trending metric is calculated 30 days from the first review of each product. Within those 30 days for each product, a trend score is calcualted as the following,\n",
    "\n",
    "$$Review Rate = \\frac{Total Reviews}{Review Window}$$\n",
    "\n",
    "$$Reiew Success = \\frac{Review Rate * Median Score}{Std Score}$$\n",
    "\n",
    "The `star_rating` is from 1 to 5. I wanted to differentiate more from a 1 to a 5, so each star rating is raised to 1.5, prior to calculating median and standard deviation. \n",
    "\n",
    "Lastly, the `review_success` is tranformed into a `trend_score` by utilizing a `tanh` function."
   ]
  },
  {
   "cell_type": "code",
   "execution_count": null,
   "metadata": {},
   "outputs": [],
   "source": [
    "ar.calc_trend_score()"
   ]
  }
 ],
 "metadata": {
  "kernelspec": {
   "display_name": "Python 3",
   "language": "python",
   "name": "python3"
  },
  "language_info": {
   "codemirror_mode": {
    "name": "ipython",
    "version": 3
   },
   "file_extension": ".py",
   "mimetype": "text/x-python",
   "name": "python",
   "nbconvert_exporter": "python",
   "pygments_lexer": "ipython3",
   "version": "3.6.5"
  }
 },
 "nbformat": 4,
 "nbformat_minor": 2
}
