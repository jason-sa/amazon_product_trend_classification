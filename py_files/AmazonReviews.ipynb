{
 "cells": [
  {
   "cell_type": "code",
   "execution_count": 1,
   "metadata": {
    "ExecuteTime": {
     "end_time": "2018-11-06T16:46:56.574275Z",
     "start_time": "2018-11-06T16:46:55.679371Z"
    }
   },
   "outputs": [],
   "source": [
    "import AmazonReviews"
   ]
  },
  {
   "cell_type": "code",
   "execution_count": 2,
   "metadata": {
    "ExecuteTime": {
     "end_time": "2018-11-06T16:46:56.612421Z",
     "start_time": "2018-11-06T16:46:56.577651Z"
    }
   },
   "outputs": [],
   "source": [
    "%load_ext autoreload\n",
    "%autoreload 2"
   ]
  },
  {
   "cell_type": "code",
   "execution_count": 3,
   "metadata": {
    "ExecuteTime": {
     "end_time": "2018-11-06T16:46:56.645667Z",
     "start_time": "2018-11-06T16:46:56.616933Z"
    }
   },
   "outputs": [],
   "source": [
    "ar = AmazonReviews.AmazonReviews()"
   ]
  },
  {
   "cell_type": "code",
   "execution_count": null,
   "metadata": {
    "ExecuteTime": {
     "end_time": "2018-11-06T16:48:13.405379Z",
     "start_time": "2018-11-06T16:47:14.351889Z"
    }
   },
   "outputs": [],
   "source": [
    "PATH = '../data/amazon_reviews_us_Toys_v1_00.tsv'\n",
    "ar.load_data(PATH)\n",
    "ar.calc_trend_score()"
   ]
  },
  {
   "cell_type": "code",
   "execution_count": 24,
   "metadata": {
    "ExecuteTime": {
     "end_time": "2018-11-06T18:23:48.613365Z",
     "start_time": "2018-11-06T18:23:32.011703Z"
    }
   },
   "outputs": [],
   "source": [
    "ar.create_observations()"
   ]
  },
  {
   "cell_type": "code",
   "execution_count": 27,
   "metadata": {
    "ExecuteTime": {
     "end_time": "2018-11-06T21:13:26.331303Z",
     "start_time": "2018-11-06T21:13:26.162952Z"
    }
   },
   "outputs": [
    {
     "name": "stdout",
     "output_type": "stream",
     "text": [
      "<class 'pandas.core.frame.DataFrame'>\n",
      "Int64Index: 4842 entries, 525 to 1781636\n",
      "Data columns (total 5 columns):\n",
      "product_id     4842 non-null object\n",
      "review_date    4842 non-null datetime64[ns]\n",
      "review_id      4842 non-null object\n",
      "review_body    4841 non-null object\n",
      "trend          4842 non-null int64\n",
      "dtypes: datetime64[ns](1), int64(1), object(3)\n",
      "memory usage: 227.0+ KB\n"
     ]
    }
   ],
   "source": [
    "ar.obs[ar.obs.trend==1].info()"
   ]
  },
  {
   "cell_type": "code",
   "execution_count": 21,
   "metadata": {
    "ExecuteTime": {
     "end_time": "2018-11-06T18:21:12.613487Z",
     "start_time": "2018-11-06T18:21:12.553750Z"
    }
   },
   "outputs": [
    {
     "name": "stdout",
     "output_type": "stream",
     "text": [
      "<class 'pandas.core.frame.DataFrame'>\n",
      "Index: 1781766 entries, 0000032034 to B01ID3ZS5W\n",
      "Data columns (total 7 columns):\n",
      "count             int64\n",
      "median            float64\n",
      "std               float64\n",
      "orig_std          float64\n",
      "review_success    float64\n",
      "trend_score       float64\n",
      "trend             int64\n",
      "dtypes: float64(5), int64(2)\n",
      "memory usage: 108.8+ MB\n"
     ]
    }
   ],
   "source": [
    "ar.product_trend_df.info()"
   ]
  },
  {
   "cell_type": "code",
   "execution_count": null,
   "metadata": {},
   "outputs": [],
   "source": []
  }
 ],
 "metadata": {
  "kernelspec": {
   "display_name": "Python 3",
   "language": "python",
   "name": "python3"
  },
  "language_info": {
   "codemirror_mode": {
    "name": "ipython",
    "version": 3
   },
   "file_extension": ".py",
   "mimetype": "text/x-python",
   "name": "python",
   "nbconvert_exporter": "python",
   "pygments_lexer": "ipython3",
   "version": "3.6.5"
  }
 },
 "nbformat": 4,
 "nbformat_minor": 2
}
