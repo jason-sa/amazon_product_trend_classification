{
 "cells": [
  {
   "cell_type": "code",
   "execution_count": 1,
   "metadata": {
    "ExecuteTime": {
     "end_time": "2018-11-06T02:32:58.390222Z",
     "start_time": "2018-11-06T02:32:57.622847Z"
    }
   },
   "outputs": [],
   "source": [
    "import AmazonReviews"
   ]
  },
  {
   "cell_type": "code",
   "execution_count": 2,
   "metadata": {
    "ExecuteTime": {
     "end_time": "2018-11-06T02:32:58.424159Z",
     "start_time": "2018-11-06T02:32:58.393053Z"
    }
   },
   "outputs": [],
   "source": [
    "%load_ext autoreload\n",
    "%autoreload 2"
   ]
  },
  {
   "cell_type": "code",
   "execution_count": 3,
   "metadata": {
    "ExecuteTime": {
     "end_time": "2018-11-06T02:32:58.455155Z",
     "start_time": "2018-11-06T02:32:58.426630Z"
    }
   },
   "outputs": [],
   "source": [
    "ar = AmazonReviews.AmazonReviews()"
   ]
  },
  {
   "cell_type": "code",
   "execution_count": null,
   "metadata": {
    "ExecuteTime": {
     "start_time": "2018-11-06T02:32:59.387Z"
    }
   },
   "outputs": [],
   "source": [
    "PATH = '../data/amazon_reviews_us_Toys_v1_00.tsv'\n",
    "ar.load_data(PATH)"
   ]
  },
  {
   "cell_type": "code",
   "execution_count": 79,
   "metadata": {
    "ExecuteTime": {
     "end_time": "2018-11-06T04:20:02.110964Z",
     "start_time": "2018-11-06T04:19:47.174363Z"
    }
   },
   "outputs": [],
   "source": [
    "ar.calc_trend_score(review_days=14)"
   ]
  },
  {
   "cell_type": "code",
   "execution_count": 80,
   "metadata": {
    "ExecuteTime": {
     "end_time": "2018-11-06T04:20:02.213507Z",
     "start_time": "2018-11-06T04:20:02.113608Z"
    }
   },
   "outputs": [
    {
     "data": {
      "text/html": [
       "<div>\n",
       "<style scoped>\n",
       "    .dataframe tbody tr th:only-of-type {\n",
       "        vertical-align: middle;\n",
       "    }\n",
       "\n",
       "    .dataframe tbody tr th {\n",
       "        vertical-align: top;\n",
       "    }\n",
       "\n",
       "    .dataframe thead th {\n",
       "        text-align: right;\n",
       "    }\n",
       "</style>\n",
       "<table border=\"1\" class=\"dataframe\">\n",
       "  <thead>\n",
       "    <tr style=\"text-align: right;\">\n",
       "      <th></th>\n",
       "      <th>count</th>\n",
       "      <th>median</th>\n",
       "      <th>std</th>\n",
       "      <th>orig_std</th>\n",
       "      <th>review_success</th>\n",
       "      <th>trend_score</th>\n",
       "      <th>trend</th>\n",
       "    </tr>\n",
       "  </thead>\n",
       "  <tbody>\n",
       "    <tr>\n",
       "      <th>count</th>\n",
       "      <td>2110.000000</td>\n",
       "      <td>2110.000000</td>\n",
       "      <td>2110.000000</td>\n",
       "      <td>2110.000000</td>\n",
       "      <td>2110.000000</td>\n",
       "      <td>2110.000000</td>\n",
       "      <td>2110.0</td>\n",
       "    </tr>\n",
       "    <tr>\n",
       "      <th>mean</th>\n",
       "      <td>8.072038</td>\n",
       "      <td>11.132196</td>\n",
       "      <td>1.040266</td>\n",
       "      <td>0.575179</td>\n",
       "      <td>6.009392</td>\n",
       "      <td>0.999787</td>\n",
       "      <td>1.0</td>\n",
       "    </tr>\n",
       "    <tr>\n",
       "      <th>std</th>\n",
       "      <td>11.451405</td>\n",
       "      <td>0.384600</td>\n",
       "      <td>0.679425</td>\n",
       "      <td>0.944316</td>\n",
       "      <td>4.972242</td>\n",
       "      <td>0.000350</td>\n",
       "      <td>0.0</td>\n",
       "    </tr>\n",
       "    <tr>\n",
       "      <th>min</th>\n",
       "      <td>4.000000</td>\n",
       "      <td>6.598076</td>\n",
       "      <td>0.691080</td>\n",
       "      <td>0.000000</td>\n",
       "      <td>3.471082</td>\n",
       "      <td>0.998070</td>\n",
       "      <td>1.0</td>\n",
       "    </tr>\n",
       "    <tr>\n",
       "      <th>25%</th>\n",
       "      <td>4.000000</td>\n",
       "      <td>11.180340</td>\n",
       "      <td>0.691080</td>\n",
       "      <td>0.000000</td>\n",
       "      <td>4.622302</td>\n",
       "      <td>0.999807</td>\n",
       "      <td>1.0</td>\n",
       "    </tr>\n",
       "    <tr>\n",
       "      <th>50%</th>\n",
       "      <td>5.000000</td>\n",
       "      <td>11.180340</td>\n",
       "      <td>0.691080</td>\n",
       "      <td>0.000000</td>\n",
       "      <td>4.622302</td>\n",
       "      <td>0.999807</td>\n",
       "      <td>1.0</td>\n",
       "    </tr>\n",
       "    <tr>\n",
       "      <th>75%</th>\n",
       "      <td>8.000000</td>\n",
       "      <td>11.180340</td>\n",
       "      <td>1.202055</td>\n",
       "      <td>1.202055</td>\n",
       "      <td>5.988099</td>\n",
       "      <td>0.999987</td>\n",
       "      <td>1.0</td>\n",
       "    </tr>\n",
       "    <tr>\n",
       "      <th>max</th>\n",
       "      <td>349.000000</td>\n",
       "      <td>11.180340</td>\n",
       "      <td>4.612314</td>\n",
       "      <td>4.612314</td>\n",
       "      <td>194.141339</td>\n",
       "      <td>1.000000</td>\n",
       "      <td>1.0</td>\n",
       "    </tr>\n",
       "  </tbody>\n",
       "</table>\n",
       "</div>"
      ],
      "text/plain": [
       "             count       median          std     orig_std  review_success  \\\n",
       "count  2110.000000  2110.000000  2110.000000  2110.000000     2110.000000   \n",
       "mean      8.072038    11.132196     1.040266     0.575179        6.009392   \n",
       "std      11.451405     0.384600     0.679425     0.944316        4.972242   \n",
       "min       4.000000     6.598076     0.691080     0.000000        3.471082   \n",
       "25%       4.000000    11.180340     0.691080     0.000000        4.622302   \n",
       "50%       5.000000    11.180340     0.691080     0.000000        4.622302   \n",
       "75%       8.000000    11.180340     1.202055     1.202055        5.988099   \n",
       "max     349.000000    11.180340     4.612314     4.612314      194.141339   \n",
       "\n",
       "       trend_score   trend  \n",
       "count  2110.000000  2110.0  \n",
       "mean      0.999787     1.0  \n",
       "std       0.000350     0.0  \n",
       "min       0.998070     1.0  \n",
       "25%       0.999807     1.0  \n",
       "50%       0.999807     1.0  \n",
       "75%       0.999987     1.0  \n",
       "max       1.000000     1.0  "
      ]
     },
     "execution_count": 80,
     "metadata": {},
     "output_type": "execute_result"
    }
   ],
   "source": [
    "ar.product_trend_df[ar.product_trend_df['trend'] == 1].describe()"
   ]
  },
  {
   "cell_type": "code",
   "execution_count": 81,
   "metadata": {
    "ExecuteTime": {
     "end_time": "2018-11-06T04:20:15.693163Z",
     "start_time": "2018-11-06T04:20:15.636024Z"
    }
   },
   "outputs": [
    {
     "data": {
      "text/html": [
       "<div>\n",
       "<style scoped>\n",
       "    .dataframe tbody tr th:only-of-type {\n",
       "        vertical-align: middle;\n",
       "    }\n",
       "\n",
       "    .dataframe tbody tr th {\n",
       "        vertical-align: top;\n",
       "    }\n",
       "\n",
       "    .dataframe thead th {\n",
       "        text-align: right;\n",
       "    }\n",
       "</style>\n",
       "<table border=\"1\" class=\"dataframe\">\n",
       "  <thead>\n",
       "    <tr style=\"text-align: right;\">\n",
       "      <th></th>\n",
       "      <th>count</th>\n",
       "      <th>median</th>\n",
       "      <th>std</th>\n",
       "      <th>orig_std</th>\n",
       "      <th>review_success</th>\n",
       "      <th>trend_score</th>\n",
       "      <th>trend</th>\n",
       "    </tr>\n",
       "    <tr>\n",
       "      <th>product_id</th>\n",
       "      <th></th>\n",
       "      <th></th>\n",
       "      <th></th>\n",
       "      <th></th>\n",
       "      <th></th>\n",
       "      <th></th>\n",
       "      <th></th>\n",
       "    </tr>\n",
       "  </thead>\n",
       "  <tbody>\n",
       "    <tr>\n",
       "      <th>B00TYHJ56U</th>\n",
       "      <td>40</td>\n",
       "      <td>6.598076</td>\n",
       "      <td>3.071545</td>\n",
       "      <td>3.071545</td>\n",
       "      <td>6.137512</td>\n",
       "      <td>0.999991</td>\n",
       "      <td>1</td>\n",
       "    </tr>\n",
       "    <tr>\n",
       "      <th>B0060LLICC</th>\n",
       "      <td>15</td>\n",
       "      <td>8.000000</td>\n",
       "      <td>1.953407</td>\n",
       "      <td>1.953407</td>\n",
       "      <td>4.387937</td>\n",
       "      <td>0.999691</td>\n",
       "      <td>1</td>\n",
       "    </tr>\n",
       "    <tr>\n",
       "      <th>B00SDJG51S</th>\n",
       "      <td>17</td>\n",
       "      <td>8.000000</td>\n",
       "      <td>2.094765</td>\n",
       "      <td>2.094765</td>\n",
       "      <td>4.637410</td>\n",
       "      <td>0.999813</td>\n",
       "      <td>1</td>\n",
       "    </tr>\n",
       "    <tr>\n",
       "      <th>B0096ENGBQ</th>\n",
       "      <td>21</td>\n",
       "      <td>8.000000</td>\n",
       "      <td>3.011453</td>\n",
       "      <td>3.011453</td>\n",
       "      <td>3.984787</td>\n",
       "      <td>0.999309</td>\n",
       "      <td>1</td>\n",
       "    </tr>\n",
       "    <tr>\n",
       "      <th>B00WJ1P6AM</th>\n",
       "      <td>13</td>\n",
       "      <td>8.000000</td>\n",
       "      <td>1.941604</td>\n",
       "      <td>1.941604</td>\n",
       "      <td>3.825996</td>\n",
       "      <td>0.999050</td>\n",
       "      <td>1</td>\n",
       "    </tr>\n",
       "  </tbody>\n",
       "</table>\n",
       "</div>"
      ],
      "text/plain": [
       "            count    median       std  orig_std  review_success  trend_score  \\\n",
       "product_id                                                                     \n",
       "B00TYHJ56U     40  6.598076  3.071545  3.071545        6.137512     0.999991   \n",
       "B0060LLICC     15  8.000000  1.953407  1.953407        4.387937     0.999691   \n",
       "B00SDJG51S     17  8.000000  2.094765  2.094765        4.637410     0.999813   \n",
       "B0096ENGBQ     21  8.000000  3.011453  3.011453        3.984787     0.999309   \n",
       "B00WJ1P6AM     13  8.000000  1.941604  1.941604        3.825996     0.999050   \n",
       "\n",
       "            trend  \n",
       "product_id         \n",
       "B00TYHJ56U      1  \n",
       "B0060LLICC      1  \n",
       "B00SDJG51S      1  \n",
       "B0096ENGBQ      1  \n",
       "B00WJ1P6AM      1  "
      ]
     },
     "execution_count": 81,
     "metadata": {},
     "output_type": "execute_result"
    }
   ],
   "source": [
    "ar.product_trend_df[ar.product_trend_df['trend'] == 1].sort_values('median', ascending=True).head()"
   ]
  },
  {
   "cell_type": "code",
   "execution_count": 30,
   "metadata": {
    "ExecuteTime": {
     "end_time": "2018-11-06T02:46:01.113352Z",
     "start_time": "2018-11-06T02:46:01.072092Z"
    }
   },
   "outputs": [
    {
     "data": {
      "text/plain": [
       "product_id\n",
       "B00TYHJ56U    0.000059\n",
       "B000OV0X4S    0.000060\n",
       "B00EV23OB0    0.000060\n",
       "B00QYHMWNQ    0.000060\n",
       "B00XRDHFYG    0.000062\n",
       "Name: review_success, dtype: float64"
      ]
     },
     "execution_count": 30,
     "metadata": {},
     "output_type": "execute_result"
    }
   ],
   "source": [
    "import numpy as np\n",
    "np.tanh(ar.product_trend_df.loc[ar.product_trend_df['trend'] == 1, 'review_success'].sort_values().head())"
   ]
  },
  {
   "cell_type": "code",
   "execution_count": 47,
   "metadata": {
    "ExecuteTime": {
     "end_time": "2018-11-06T02:54:11.513370Z",
     "start_time": "2018-11-06T02:54:11.431993Z"
    }
   },
   "outputs": [
    {
     "data": {
      "text/plain": [
       "count    466969.000000\n",
       "mean          0.002474\n",
       "std           0.001303\n",
       "min           0.000264\n",
       "25%           0.002115\n",
       "50%           0.002956\n",
       "75%           0.002956\n",
       "max           0.292638\n",
       "Name: review_success, dtype: float64"
      ]
     },
     "execution_count": 47,
     "metadata": {},
     "output_type": "execute_result"
    }
   ],
   "source": [
    "from scipy.special import expit\n",
    "np.tanh(ar.product_trend_df.review_success*100).describe()"
   ]
  },
  {
   "cell_type": "code",
   "execution_count": 10,
   "metadata": {
    "ExecuteTime": {
     "end_time": "2018-11-06T02:35:18.861801Z",
     "start_time": "2018-11-06T02:35:18.817696Z"
    }
   },
   "outputs": [
    {
     "data": {
      "text/plain": [
       "2.7135532517723995"
      ]
     },
     "execution_count": 10,
     "metadata": {},
     "output_type": "execute_result"
    }
   ],
   "source": [
    "4.47**(1/1.5)"
   ]
  },
  {
   "cell_type": "code",
   "execution_count": 82,
   "metadata": {
    "ExecuteTime": {
     "end_time": "2018-11-06T04:20:30.260022Z",
     "start_time": "2018-11-06T04:20:29.692175Z"
    }
   },
   "outputs": [
    {
     "data": {
      "text/plain": [
       "4.0    29\n",
       "3.0    16\n",
       "1.0    11\n",
       "2.0     9\n",
       "5.0     5\n",
       "Name: star_rating, dtype: int64"
      ]
     },
     "execution_count": 82,
     "metadata": {},
     "output_type": "execute_result"
    }
   ],
   "source": [
    "from datetime import timedelta\n",
    "mask = (ar.reviews_df.product_id == 'B00TYHJ56U') & (ar.reviews_df.max_review_date - ar.reviews_df.review_date <= timedelta(days=30))\n",
    "ar.reviews_df.loc[mask, 'star_rating'].value_counts()"
   ]
  },
  {
   "cell_type": "code",
   "execution_count": 83,
   "metadata": {
    "ExecuteTime": {
     "end_time": "2018-11-06T04:20:39.849985Z",
     "start_time": "2018-11-06T04:20:39.820186Z"
    }
   },
   "outputs": [
    {
     "data": {
      "text/plain": [
       "3.0"
      ]
     },
     "execution_count": 83,
     "metadata": {},
     "output_type": "execute_result"
    }
   ],
   "source": [
    "ar.reviews_df.loc[mask, 'star_rating'].median()"
   ]
  },
  {
   "cell_type": "code",
   "execution_count": 13,
   "metadata": {
    "ExecuteTime": {
     "end_time": "2018-11-06T00:40:03.323857Z",
     "start_time": "2018-11-06T00:40:03.302957Z"
    }
   },
   "outputs": [
    {
     "data": {
      "text/html": [
       "<div>\n",
       "<style scoped>\n",
       "    .dataframe tbody tr th:only-of-type {\n",
       "        vertical-align: middle;\n",
       "    }\n",
       "\n",
       "    .dataframe tbody tr th {\n",
       "        vertical-align: top;\n",
       "    }\n",
       "\n",
       "    .dataframe thead th {\n",
       "        text-align: right;\n",
       "    }\n",
       "</style>\n",
       "<table border=\"1\" class=\"dataframe\">\n",
       "  <thead>\n",
       "    <tr style=\"text-align: right;\">\n",
       "      <th></th>\n",
       "      <th>count</th>\n",
       "      <th>mean</th>\n",
       "      <th>std</th>\n",
       "      <th>orig_std</th>\n",
       "      <th>review_success</th>\n",
       "      <th>trend_score</th>\n",
       "      <th>trend</th>\n",
       "    </tr>\n",
       "    <tr>\n",
       "      <th>product_id</th>\n",
       "      <th></th>\n",
       "      <th></th>\n",
       "      <th></th>\n",
       "      <th></th>\n",
       "      <th></th>\n",
       "      <th></th>\n",
       "      <th></th>\n",
       "    </tr>\n",
       "  </thead>\n",
       "  <tbody>\n",
       "    <tr>\n",
       "      <th>B00D7DK0NY</th>\n",
       "      <td>3</td>\n",
       "      <td>5.0</td>\n",
       "      <td>0.164399</td>\n",
       "      <td>0.0</td>\n",
       "      <td>0.000143</td>\n",
       "      <td>0.000143</td>\n",
       "      <td>1</td>\n",
       "    </tr>\n",
       "    <tr>\n",
       "      <th>B00F4O8PLS</th>\n",
       "      <td>3</td>\n",
       "      <td>5.0</td>\n",
       "      <td>0.164399</td>\n",
       "      <td>0.0</td>\n",
       "      <td>0.000143</td>\n",
       "      <td>0.000143</td>\n",
       "      <td>1</td>\n",
       "    </tr>\n",
       "    <tr>\n",
       "      <th>B00F434KF4</th>\n",
       "      <td>3</td>\n",
       "      <td>5.0</td>\n",
       "      <td>0.164399</td>\n",
       "      <td>0.0</td>\n",
       "      <td>0.000143</td>\n",
       "      <td>0.000143</td>\n",
       "      <td>1</td>\n",
       "    </tr>\n",
       "    <tr>\n",
       "      <th>B00F40KY2A</th>\n",
       "      <td>3</td>\n",
       "      <td>5.0</td>\n",
       "      <td>0.164399</td>\n",
       "      <td>0.0</td>\n",
       "      <td>0.000143</td>\n",
       "      <td>0.000143</td>\n",
       "      <td>1</td>\n",
       "    </tr>\n",
       "    <tr>\n",
       "      <th>B00F40KSJE</th>\n",
       "      <td>3</td>\n",
       "      <td>5.0</td>\n",
       "      <td>0.164399</td>\n",
       "      <td>0.0</td>\n",
       "      <td>0.000143</td>\n",
       "      <td>0.000143</td>\n",
       "      <td>1</td>\n",
       "    </tr>\n",
       "  </tbody>\n",
       "</table>\n",
       "</div>"
      ],
      "text/plain": [
       "            count  mean       std  orig_std  review_success  trend_score  \\\n",
       "product_id                                                                 \n",
       "B00D7DK0NY      3   5.0  0.164399       0.0        0.000143     0.000143   \n",
       "B00F4O8PLS      3   5.0  0.164399       0.0        0.000143     0.000143   \n",
       "B00F434KF4      3   5.0  0.164399       0.0        0.000143     0.000143   \n",
       "B00F40KY2A      3   5.0  0.164399       0.0        0.000143     0.000143   \n",
       "B00F40KSJE      3   5.0  0.164399       0.0        0.000143     0.000143   \n",
       "\n",
       "            trend  \n",
       "product_id         \n",
       "B00D7DK0NY      1  \n",
       "B00F4O8PLS      1  \n",
       "B00F434KF4      1  \n",
       "B00F40KY2A      1  \n",
       "B00F40KSJE      1  "
      ]
     },
     "execution_count": 13,
     "metadata": {},
     "output_type": "execute_result"
    }
   ],
   "source": [
    "ar.product_trend_df[ar.product_trend_df['trend'] == 1].sort_values('review_success').head()"
   ]
  },
  {
   "cell_type": "code",
   "execution_count": 84,
   "metadata": {
    "ExecuteTime": {
     "end_time": "2018-11-06T04:45:22.166645Z",
     "start_time": "2018-11-06T04:42:36.644184Z"
    }
   },
   "outputs": [
    {
     "name": "stderr",
     "output_type": "stream",
     "text": [
      "b'Skipping line 49396: expected 15 fields, saw 22\\nSkipping line 57008: expected 15 fields, saw 22\\n'\n",
      "b'Skipping line 82075: expected 15 fields, saw 22\\nSkipping line 104435: expected 15 fields, saw 22\\nSkipping line 109766: expected 15 fields, saw 22\\nSkipping line 124024: expected 15 fields, saw 22\\nSkipping line 129914: expected 15 fields, saw 22\\nSkipping line 130172: expected 15 fields, saw 22\\n'\n",
      "b'Skipping line 161515: expected 15 fields, saw 22\\n'\n",
      "b'Skipping line 230464: expected 15 fields, saw 22\\n'\n",
      "b'Skipping line 292640: expected 15 fields, saw 22\\nSkipping line 293681: expected 15 fields, saw 22\\nSkipping line 316511: expected 15 fields, saw 22\\nSkipping line 317239: expected 15 fields, saw 22\\nSkipping line 326099: expected 15 fields, saw 22\\nSkipping line 327595: expected 15 fields, saw 22\\n'\n",
      "b'Skipping line 342645: expected 15 fields, saw 22\\nSkipping line 347980: expected 15 fields, saw 22\\nSkipping line 376258: expected 15 fields, saw 22\\nSkipping line 381192: expected 15 fields, saw 22\\nSkipping line 386485: expected 15 fields, saw 22\\n'\n",
      "b'Skipping line 407400: expected 15 fields, saw 22\\nSkipping line 416310: expected 15 fields, saw 22\\nSkipping line 416980: expected 15 fields, saw 22\\nSkipping line 455682: expected 15 fields, saw 22\\n'\n",
      "b'Skipping line 472662: expected 15 fields, saw 22\\n'\n",
      "b'Skipping line 539038: expected 15 fields, saw 22\\nSkipping line 580519: expected 15 fields, saw 22\\n'\n",
      "b'Skipping line 635125: expected 15 fields, saw 22\\n'\n",
      "b'Skipping line 723898: expected 15 fields, saw 22\\nSkipping line 760157: expected 15 fields, saw 22\\n'\n",
      "b'Skipping line 789445: expected 15 fields, saw 22\\nSkipping line 796985: expected 15 fields, saw 22\\nSkipping line 810160: expected 15 fields, saw 22\\n'\n",
      "b'Skipping line 880731: expected 15 fields, saw 22\\nSkipping line 894334: expected 15 fields, saw 22\\n'\n",
      "b'Skipping line 921347: expected 15 fields, saw 22\\nSkipping line 931127: expected 15 fields, saw 22\\n'\n",
      "b'Skipping line 1008439: expected 15 fields, saw 22\\nSkipping line 1037655: expected 15 fields, saw 22\\n'\n",
      "b'Skipping line 1055998: expected 15 fields, saw 22\\n'\n",
      "b'Skipping line 1188632: expected 15 fields, saw 22\\nSkipping line 1233723: expected 15 fields, saw 22\\nSkipping line 1244463: expected 15 fields, saw 22\\n'\n",
      "b'Skipping line 1507887: expected 15 fields, saw 22\\nSkipping line 1564930: expected 15 fields, saw 22\\n'\n",
      "b'Skipping line 1807298: expected 15 fields, saw 22\\nSkipping line 1829193: expected 15 fields, saw 22\\n'\n",
      "b'Skipping line 1868798: expected 15 fields, saw 22\\n'\n",
      "b'Skipping line 1904329: expected 15 fields, saw 22\\nSkipping line 1935010: expected 15 fields, saw 22\\nSkipping line 1957592: expected 15 fields, saw 22\\nSkipping line 1965838: expected 15 fields, saw 22\\n'\n",
      "b'Skipping line 1976381: expected 15 fields, saw 22\\nSkipping line 2014993: expected 15 fields, saw 22\\n'\n",
      "b'Skipping line 2037893: expected 15 fields, saw 22\\n'\n",
      "b'Skipping line 2437394: expected 15 fields, saw 22\\n'\n",
      "b'Skipping line 2538052: expected 15 fields, saw 22\\n'\n",
      "b'Skipping line 2569847: expected 15 fields, saw 22\\n'\n",
      "b'Skipping line 2759787: expected 15 fields, saw 22\\n'\n",
      "b'Skipping line 2987929: expected 15 fields, saw 22\\n'\n",
      "b'Skipping line 3174718: expected 15 fields, saw 22\\n'\n",
      "b'Skipping line 3259703: expected 15 fields, saw 22\\n'\n",
      "b'Skipping line 3424140: expected 15 fields, saw 22\\nSkipping line 3430150: expected 15 fields, saw 22\\n'\n",
      "b'Skipping line 3489349: expected 15 fields, saw 22\\nSkipping line 3529163: expected 15 fields, saw 22\\n'\n",
      "b'Skipping line 3730489: expected 15 fields, saw 22\\n'\n",
      "b'Skipping line 4073027: expected 15 fields, saw 22\\nSkipping line 4127350: expected 15 fields, saw 22\\n'\n",
      "b'Skipping line 4508712: expected 15 fields, saw 22\\n'\n",
      "b'Skipping line 5115619: expected 15 fields, saw 22\\n'\n",
      "b'Skipping line 5279907: expected 15 fields, saw 22\\n'\n",
      "b'Skipping line 5318712: expected 15 fields, saw 22\\n'\n",
      "b'Skipping line 5432514: expected 15 fields, saw 22\\n'\n",
      "b'Skipping line 5568417: expected 15 fields, saw 22\\n'\n",
      "b'Skipping line 5840248: expected 15 fields, saw 22\\n'\n"
     ]
    },
    {
     "name": "stdout",
     "output_type": "stream",
     "text": [
      "\n",
      "0.4141% lines were not read due to data errors.\n",
      "\n",
      "Saved to pickle...\n"
     ]
    }
   ],
   "source": [
    "PATH = '../data/amazon_reviews_us_Apparel_v1_00.tsv'\n",
    "apparel = AmazonReviews.AmazonReviews()\n",
    "apparel.load_data(PATH)"
   ]
  },
  {
   "cell_type": "code",
   "execution_count": 85,
   "metadata": {
    "ExecuteTime": {
     "end_time": "2018-11-06T04:45:58.709702Z",
     "start_time": "2018-11-06T04:45:34.869491Z"
    }
   },
   "outputs": [],
   "source": [
    "apparel.calc_trend_score()"
   ]
  },
  {
   "cell_type": "code",
   "execution_count": 86,
   "metadata": {
    "ExecuteTime": {
     "end_time": "2018-11-06T04:46:21.127331Z",
     "start_time": "2018-11-06T04:46:20.904246Z"
    }
   },
   "outputs": [
    {
     "data": {
      "text/html": [
       "<div>\n",
       "<style scoped>\n",
       "    .dataframe tbody tr th:only-of-type {\n",
       "        vertical-align: middle;\n",
       "    }\n",
       "\n",
       "    .dataframe tbody tr th {\n",
       "        vertical-align: top;\n",
       "    }\n",
       "\n",
       "    .dataframe thead th {\n",
       "        text-align: right;\n",
       "    }\n",
       "</style>\n",
       "<table border=\"1\" class=\"dataframe\">\n",
       "  <thead>\n",
       "    <tr style=\"text-align: right;\">\n",
       "      <th></th>\n",
       "      <th>count</th>\n",
       "      <th>median</th>\n",
       "      <th>std</th>\n",
       "      <th>orig_std</th>\n",
       "      <th>review_success</th>\n",
       "      <th>trend_score</th>\n",
       "      <th>trend</th>\n",
       "    </tr>\n",
       "  </thead>\n",
       "  <tbody>\n",
       "    <tr>\n",
       "      <th>count</th>\n",
       "      <td>12061.000000</td>\n",
       "      <td>12061.000000</td>\n",
       "      <td>12061.000000</td>\n",
       "      <td>12061.000000</td>\n",
       "      <td>12061.000000</td>\n",
       "      <td>12061.000000</td>\n",
       "      <td>12061.0</td>\n",
       "    </tr>\n",
       "    <tr>\n",
       "      <th>mean</th>\n",
       "      <td>4.586767</td>\n",
       "      <td>11.072073</td>\n",
       "      <td>0.783186</td>\n",
       "      <td>0.309494</td>\n",
       "      <td>2.175881</td>\n",
       "      <td>0.959035</td>\n",
       "      <td>1.0</td>\n",
       "    </tr>\n",
       "    <tr>\n",
       "      <th>std</th>\n",
       "      <td>4.515318</td>\n",
       "      <td>0.573074</td>\n",
       "      <td>0.551643</td>\n",
       "      <td>0.742529</td>\n",
       "      <td>0.903986</td>\n",
       "      <td>0.031176</td>\n",
       "      <td>0.0</td>\n",
       "    </tr>\n",
       "    <tr>\n",
       "      <th>min</th>\n",
       "      <td>3.000000</td>\n",
       "      <td>5.196152</td>\n",
       "      <td>0.571206</td>\n",
       "      <td>0.000000</td>\n",
       "      <td>1.309582</td>\n",
       "      <td>0.864170</td>\n",
       "      <td>1.0</td>\n",
       "    </tr>\n",
       "    <tr>\n",
       "      <th>25%</th>\n",
       "      <td>3.000000</td>\n",
       "      <td>11.180340</td>\n",
       "      <td>0.571206</td>\n",
       "      <td>0.000000</td>\n",
       "      <td>1.957322</td>\n",
       "      <td>0.960885</td>\n",
       "      <td>1.0</td>\n",
       "    </tr>\n",
       "    <tr>\n",
       "      <th>50%</th>\n",
       "      <td>3.000000</td>\n",
       "      <td>11.180340</td>\n",
       "      <td>0.571206</td>\n",
       "      <td>0.000000</td>\n",
       "      <td>1.957322</td>\n",
       "      <td>0.960885</td>\n",
       "      <td>1.0</td>\n",
       "    </tr>\n",
       "    <tr>\n",
       "      <th>75%</th>\n",
       "      <td>4.000000</td>\n",
       "      <td>11.180340</td>\n",
       "      <td>0.571206</td>\n",
       "      <td>0.000000</td>\n",
       "      <td>1.957322</td>\n",
       "      <td>0.960885</td>\n",
       "      <td>1.0</td>\n",
       "    </tr>\n",
       "    <tr>\n",
       "      <th>max</th>\n",
       "      <td>108.000000</td>\n",
       "      <td>11.180340</td>\n",
       "      <td>4.312685</td>\n",
       "      <td>4.312685</td>\n",
       "      <td>21.236146</td>\n",
       "      <td>1.000000</td>\n",
       "      <td>1.0</td>\n",
       "    </tr>\n",
       "  </tbody>\n",
       "</table>\n",
       "</div>"
      ],
      "text/plain": [
       "              count        median           std      orig_std  review_success  \\\n",
       "count  12061.000000  12061.000000  12061.000000  12061.000000    12061.000000   \n",
       "mean       4.586767     11.072073      0.783186      0.309494        2.175881   \n",
       "std        4.515318      0.573074      0.551643      0.742529        0.903986   \n",
       "min        3.000000      5.196152      0.571206      0.000000        1.309582   \n",
       "25%        3.000000     11.180340      0.571206      0.000000        1.957322   \n",
       "50%        3.000000     11.180340      0.571206      0.000000        1.957322   \n",
       "75%        4.000000     11.180340      0.571206      0.000000        1.957322   \n",
       "max      108.000000     11.180340      4.312685      4.312685       21.236146   \n",
       "\n",
       "        trend_score    trend  \n",
       "count  12061.000000  12061.0  \n",
       "mean       0.959035      1.0  \n",
       "std        0.031176      0.0  \n",
       "min        0.864170      1.0  \n",
       "25%        0.960885      1.0  \n",
       "50%        0.960885      1.0  \n",
       "75%        0.960885      1.0  \n",
       "max        1.000000      1.0  "
      ]
     },
     "execution_count": 86,
     "metadata": {},
     "output_type": "execute_result"
    }
   ],
   "source": [
    "apparel.product_trend_df[apparel.product_trend_df.trend == 1].describe()"
   ]
  },
  {
   "cell_type": "code",
   "execution_count": 87,
   "metadata": {
    "ExecuteTime": {
     "end_time": "2018-11-06T04:47:18.526615Z",
     "start_time": "2018-11-06T04:47:18.465614Z"
    }
   },
   "outputs": [
    {
     "data": {
      "text/html": [
       "<div>\n",
       "<style scoped>\n",
       "    .dataframe tbody tr th:only-of-type {\n",
       "        vertical-align: middle;\n",
       "    }\n",
       "\n",
       "    .dataframe tbody tr th {\n",
       "        vertical-align: top;\n",
       "    }\n",
       "\n",
       "    .dataframe thead th {\n",
       "        text-align: right;\n",
       "    }\n",
       "</style>\n",
       "<table border=\"1\" class=\"dataframe\">\n",
       "  <thead>\n",
       "    <tr style=\"text-align: right;\">\n",
       "      <th></th>\n",
       "      <th>count</th>\n",
       "      <th>median</th>\n",
       "      <th>std</th>\n",
       "      <th>orig_std</th>\n",
       "      <th>review_success</th>\n",
       "      <th>trend_score</th>\n",
       "      <th>trend</th>\n",
       "    </tr>\n",
       "    <tr>\n",
       "      <th>product_id</th>\n",
       "      <th></th>\n",
       "      <th></th>\n",
       "      <th></th>\n",
       "      <th></th>\n",
       "      <th></th>\n",
       "      <th></th>\n",
       "      <th></th>\n",
       "    </tr>\n",
       "  </thead>\n",
       "  <tbody>\n",
       "    <tr>\n",
       "      <th>B007E9VXJW</th>\n",
       "      <td>7</td>\n",
       "      <td>5.196152</td>\n",
       "      <td>0.571206</td>\n",
       "      <td>0.000000</td>\n",
       "      <td>2.122589</td>\n",
       "      <td>0.971739</td>\n",
       "      <td>1</td>\n",
       "    </tr>\n",
       "    <tr>\n",
       "      <th>B00HJKU3WE</th>\n",
       "      <td>33</td>\n",
       "      <td>5.196152</td>\n",
       "      <td>4.031639</td>\n",
       "      <td>4.031639</td>\n",
       "      <td>1.417728</td>\n",
       "      <td>0.889124</td>\n",
       "      <td>1</td>\n",
       "    </tr>\n",
       "    <tr>\n",
       "      <th>B00UJO5M4Q</th>\n",
       "      <td>26</td>\n",
       "      <td>6.598076</td>\n",
       "      <td>4.089509</td>\n",
       "      <td>4.089509</td>\n",
       "      <td>1.398293</td>\n",
       "      <td>0.884982</td>\n",
       "      <td>1</td>\n",
       "    </tr>\n",
       "    <tr>\n",
       "      <th>B009LR0DKU</th>\n",
       "      <td>10</td>\n",
       "      <td>6.598076</td>\n",
       "      <td>1.477757</td>\n",
       "      <td>1.477757</td>\n",
       "      <td>1.488308</td>\n",
       "      <td>0.903013</td>\n",
       "      <td>1</td>\n",
       "    </tr>\n",
       "    <tr>\n",
       "      <th>B00TG2K03A</th>\n",
       "      <td>22</td>\n",
       "      <td>6.598076</td>\n",
       "      <td>3.337168</td>\n",
       "      <td>3.337168</td>\n",
       "      <td>1.449909</td>\n",
       "      <td>0.895675</td>\n",
       "      <td>1</td>\n",
       "    </tr>\n",
       "  </tbody>\n",
       "</table>\n",
       "</div>"
      ],
      "text/plain": [
       "            count    median       std  orig_std  review_success  trend_score  \\\n",
       "product_id                                                                     \n",
       "B007E9VXJW      7  5.196152  0.571206  0.000000        2.122589     0.971739   \n",
       "B00HJKU3WE     33  5.196152  4.031639  4.031639        1.417728     0.889124   \n",
       "B00UJO5M4Q     26  6.598076  4.089509  4.089509        1.398293     0.884982   \n",
       "B009LR0DKU     10  6.598076  1.477757  1.477757        1.488308     0.903013   \n",
       "B00TG2K03A     22  6.598076  3.337168  3.337168        1.449909     0.895675   \n",
       "\n",
       "            trend  \n",
       "product_id         \n",
       "B007E9VXJW      1  \n",
       "B00HJKU3WE      1  \n",
       "B00UJO5M4Q      1  \n",
       "B009LR0DKU      1  \n",
       "B00TG2K03A      1  "
      ]
     },
     "execution_count": 87,
     "metadata": {},
     "output_type": "execute_result"
    }
   ],
   "source": [
    "apparel.product_trend_df[apparel.product_trend_df['trend'] == 1].sort_values('median', ascending=True).head()"
   ]
  },
  {
   "cell_type": "code",
   "execution_count": 89,
   "metadata": {
    "ExecuteTime": {
     "end_time": "2018-11-06T04:49:28.437150Z",
     "start_time": "2018-11-06T04:49:27.918210Z"
    }
   },
   "outputs": [
    {
     "data": {
      "text/html": [
       "<div>\n",
       "<style scoped>\n",
       "    .dataframe tbody tr th:only-of-type {\n",
       "        vertical-align: middle;\n",
       "    }\n",
       "\n",
       "    .dataframe tbody tr th {\n",
       "        vertical-align: top;\n",
       "    }\n",
       "\n",
       "    .dataframe thead th {\n",
       "        text-align: right;\n",
       "    }\n",
       "</style>\n",
       "<table border=\"1\" class=\"dataframe\">\n",
       "  <thead>\n",
       "    <tr style=\"text-align: right;\">\n",
       "      <th></th>\n",
       "      <th>marketplace</th>\n",
       "      <th>customer_id</th>\n",
       "      <th>review_id</th>\n",
       "      <th>product_id</th>\n",
       "      <th>product_parent</th>\n",
       "      <th>product_title</th>\n",
       "      <th>product_category</th>\n",
       "      <th>star_rating</th>\n",
       "      <th>helpful_votes</th>\n",
       "      <th>total_votes</th>\n",
       "      <th>vine</th>\n",
       "      <th>verified_purchase</th>\n",
       "      <th>review_headline</th>\n",
       "      <th>review_body</th>\n",
       "      <th>review_date</th>\n",
       "      <th>adj_star_rating</th>\n",
       "      <th>max_review_date</th>\n",
       "    </tr>\n",
       "  </thead>\n",
       "  <tbody>\n",
       "    <tr>\n",
       "      <th>3413622</th>\n",
       "      <td>US</td>\n",
       "      <td>16721041</td>\n",
       "      <td>R1BW94CM4TAID2</td>\n",
       "      <td>B007E9VXJW</td>\n",
       "      <td>820976006</td>\n",
       "      <td>Smiffys Men's Grim Reaper Plastic Scythe</td>\n",
       "      <td>Apparel</td>\n",
       "      <td>3.0</td>\n",
       "      <td>1.0</td>\n",
       "      <td>4.0</td>\n",
       "      <td>N</td>\n",
       "      <td>N</td>\n",
       "      <td>Hello, This Is The Scythe That I Am In Love With</td>\n",
       "      <td>Here it is: the scythe that I love. It is the ...</td>\n",
       "      <td>2015-08-20</td>\n",
       "      <td>5.196152</td>\n",
       "      <td>2015-08-20</td>\n",
       "    </tr>\n",
       "    <tr>\n",
       "      <th>3413623</th>\n",
       "      <td>US</td>\n",
       "      <td>36874056</td>\n",
       "      <td>RJSF1DNZ8FR1Q</td>\n",
       "      <td>B007E9VXJW</td>\n",
       "      <td>820976006</td>\n",
       "      <td>Smiffys Men's Grim Reaper Plastic Scythe</td>\n",
       "      <td>Apparel</td>\n",
       "      <td>3.0</td>\n",
       "      <td>0.0</td>\n",
       "      <td>2.0</td>\n",
       "      <td>N</td>\n",
       "      <td>N</td>\n",
       "      <td>Harvesting Love</td>\n",
       "      <td>I have a tendency to stay up late, wandering t...</td>\n",
       "      <td>2015-08-20</td>\n",
       "      <td>5.196152</td>\n",
       "      <td>2015-08-20</td>\n",
       "    </tr>\n",
       "    <tr>\n",
       "      <th>3413624</th>\n",
       "      <td>US</td>\n",
       "      <td>44277163</td>\n",
       "      <td>R3UVZWQIJ15U2I</td>\n",
       "      <td>B007E9VXJW</td>\n",
       "      <td>820976006</td>\n",
       "      <td>Smiffys Men's Grim Reaper Plastic Scythe</td>\n",
       "      <td>Apparel</td>\n",
       "      <td>3.0</td>\n",
       "      <td>1.0</td>\n",
       "      <td>3.0</td>\n",
       "      <td>N</td>\n",
       "      <td>N</td>\n",
       "      <td>Super hot \u001a\u001a\u001a\u001a\u001a\u001a</td>\n",
       "      <td>I recently found one of these Smiffy's Men's G...</td>\n",
       "      <td>2015-08-19</td>\n",
       "      <td>5.196152</td>\n",
       "      <td>2015-08-20</td>\n",
       "    </tr>\n",
       "    <tr>\n",
       "      <th>3413625</th>\n",
       "      <td>US</td>\n",
       "      <td>11660130</td>\n",
       "      <td>R3K50BW9YIRDM9</td>\n",
       "      <td>B007E9VXJW</td>\n",
       "      <td>820976006</td>\n",
       "      <td>Smiffys Men's Grim Reaper Plastic Scythe</td>\n",
       "      <td>Apparel</td>\n",
       "      <td>3.0</td>\n",
       "      <td>1.0</td>\n",
       "      <td>4.0</td>\n",
       "      <td>N</td>\n",
       "      <td>N</td>\n",
       "      <td>I remember at first thinking she was pretty an...</td>\n",
       "      <td>I first met the scythe at a coffee shop near m...</td>\n",
       "      <td>2015-08-20</td>\n",
       "      <td>5.196152</td>\n",
       "      <td>2015-08-20</td>\n",
       "    </tr>\n",
       "    <tr>\n",
       "      <th>3413627</th>\n",
       "      <td>US</td>\n",
       "      <td>43117255</td>\n",
       "      <td>R1VD9CYJTMEU33</td>\n",
       "      <td>B007E9VXJW</td>\n",
       "      <td>820976006</td>\n",
       "      <td>Smiffys Men's Grim Reaper Plastic Scythe</td>\n",
       "      <td>Apparel</td>\n",
       "      <td>3.0</td>\n",
       "      <td>0.0</td>\n",
       "      <td>4.0</td>\n",
       "      <td>N</td>\n",
       "      <td>Y</td>\n",
       "      <td>The Potentially Most Romance Review for Smiffy...</td>\n",
       "      <td>Here is the potentially most romance review wh...</td>\n",
       "      <td>2015-08-20</td>\n",
       "      <td>5.196152</td>\n",
       "      <td>2015-08-20</td>\n",
       "    </tr>\n",
       "    <tr>\n",
       "      <th>3413628</th>\n",
       "      <td>US</td>\n",
       "      <td>9410939</td>\n",
       "      <td>RTDSSL8BPW4U8</td>\n",
       "      <td>B007E9VXJW</td>\n",
       "      <td>820976006</td>\n",
       "      <td>Smiffys Men's Grim Reaper Plastic Scythe</td>\n",
       "      <td>Apparel</td>\n",
       "      <td>3.0</td>\n",
       "      <td>6.0</td>\n",
       "      <td>11.0</td>\n",
       "      <td>N</td>\n",
       "      <td>N</td>\n",
       "      <td>My declaration of love</td>\n",
       "      <td>From the first moment I laid eyes on this scyt...</td>\n",
       "      <td>2015-08-20</td>\n",
       "      <td>5.196152</td>\n",
       "      <td>2015-08-20</td>\n",
       "    </tr>\n",
       "    <tr>\n",
       "      <th>3413630</th>\n",
       "      <td>US</td>\n",
       "      <td>13710042</td>\n",
       "      <td>R3B48A5D9P5630</td>\n",
       "      <td>B007E9VXJW</td>\n",
       "      <td>820976006</td>\n",
       "      <td>Smiffys Men's Grim Reaper Plastic Scythe</td>\n",
       "      <td>Apparel</td>\n",
       "      <td>3.0</td>\n",
       "      <td>2.0</td>\n",
       "      <td>5.0</td>\n",
       "      <td>N</td>\n",
       "      <td>N</td>\n",
       "      <td>Three Star Review</td>\n",
       "      <td>Insofar as I am a computer man and an internet...</td>\n",
       "      <td>2015-08-20</td>\n",
       "      <td>5.196152</td>\n",
       "      <td>2015-08-20</td>\n",
       "    </tr>\n",
       "  </tbody>\n",
       "</table>\n",
       "</div>"
      ],
      "text/plain": [
       "        marketplace  customer_id       review_id  product_id  product_parent  \\\n",
       "3413622          US     16721041  R1BW94CM4TAID2  B007E9VXJW       820976006   \n",
       "3413623          US     36874056   RJSF1DNZ8FR1Q  B007E9VXJW       820976006   \n",
       "3413624          US     44277163  R3UVZWQIJ15U2I  B007E9VXJW       820976006   \n",
       "3413625          US     11660130  R3K50BW9YIRDM9  B007E9VXJW       820976006   \n",
       "3413627          US     43117255  R1VD9CYJTMEU33  B007E9VXJW       820976006   \n",
       "3413628          US      9410939   RTDSSL8BPW4U8  B007E9VXJW       820976006   \n",
       "3413630          US     13710042  R3B48A5D9P5630  B007E9VXJW       820976006   \n",
       "\n",
       "                                    product_title product_category  \\\n",
       "3413622  Smiffys Men's Grim Reaper Plastic Scythe          Apparel   \n",
       "3413623  Smiffys Men's Grim Reaper Plastic Scythe          Apparel   \n",
       "3413624  Smiffys Men's Grim Reaper Plastic Scythe          Apparel   \n",
       "3413625  Smiffys Men's Grim Reaper Plastic Scythe          Apparel   \n",
       "3413627  Smiffys Men's Grim Reaper Plastic Scythe          Apparel   \n",
       "3413628  Smiffys Men's Grim Reaper Plastic Scythe          Apparel   \n",
       "3413630  Smiffys Men's Grim Reaper Plastic Scythe          Apparel   \n",
       "\n",
       "         star_rating  helpful_votes  total_votes vine verified_purchase  \\\n",
       "3413622          3.0            1.0          4.0    N                 N   \n",
       "3413623          3.0            0.0          2.0    N                 N   \n",
       "3413624          3.0            1.0          3.0    N                 N   \n",
       "3413625          3.0            1.0          4.0    N                 N   \n",
       "3413627          3.0            0.0          4.0    N                 Y   \n",
       "3413628          3.0            6.0         11.0    N                 N   \n",
       "3413630          3.0            2.0          5.0    N                 N   \n",
       "\n",
       "                                           review_headline  \\\n",
       "3413622   Hello, This Is The Scythe That I Am In Love With   \n",
       "3413623                                    Harvesting Love   \n",
       "3413624                                   Super hot \u001a\u001a\u001a\u001a\u001a\u001a   \n",
       "3413625  I remember at first thinking she was pretty an...   \n",
       "3413627  The Potentially Most Romance Review for Smiffy...   \n",
       "3413628                             My declaration of love   \n",
       "3413630                                  Three Star Review   \n",
       "\n",
       "                                               review_body review_date  \\\n",
       "3413622  Here it is: the scythe that I love. It is the ...  2015-08-20   \n",
       "3413623  I have a tendency to stay up late, wandering t...  2015-08-20   \n",
       "3413624  I recently found one of these Smiffy's Men's G...  2015-08-19   \n",
       "3413625  I first met the scythe at a coffee shop near m...  2015-08-20   \n",
       "3413627  Here is the potentially most romance review wh...  2015-08-20   \n",
       "3413628  From the first moment I laid eyes on this scyt...  2015-08-20   \n",
       "3413630  Insofar as I am a computer man and an internet...  2015-08-20   \n",
       "\n",
       "         adj_star_rating max_review_date  \n",
       "3413622         5.196152      2015-08-20  \n",
       "3413623         5.196152      2015-08-20  \n",
       "3413624         5.196152      2015-08-20  \n",
       "3413625         5.196152      2015-08-20  \n",
       "3413627         5.196152      2015-08-20  \n",
       "3413628         5.196152      2015-08-20  \n",
       "3413630         5.196152      2015-08-20  "
      ]
     },
     "execution_count": 89,
     "metadata": {},
     "output_type": "execute_result"
    }
   ],
   "source": [
    "from datetime import timedelta\n",
    "mask = (apparel.reviews_df.product_id == 'B007E9VXJW') & (apparel.reviews_df.max_review_date - apparel.reviews_df.review_date <= timedelta(days=30))\n",
    "apparel.reviews_df.groupby['product_id']"
   ]
  }
 ],
 "metadata": {
  "kernelspec": {
   "display_name": "Python 3",
   "language": "python",
   "name": "python3"
  },
  "language_info": {
   "codemirror_mode": {
    "name": "ipython",
    "version": 3
   },
   "file_extension": ".py",
   "mimetype": "text/x-python",
   "name": "python",
   "nbconvert_exporter": "python",
   "pygments_lexer": "ipython3",
   "version": "3.6.5"
  }
 },
 "nbformat": 4,
 "nbformat_minor": 2
}
